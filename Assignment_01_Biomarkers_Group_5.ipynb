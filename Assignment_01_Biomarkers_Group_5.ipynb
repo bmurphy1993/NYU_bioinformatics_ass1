{
  "nbformat": 4,
  "nbformat_minor": 0,
  "metadata": {
    "colab": {
      "name": "Assignment_01_Biomarkers_Group 5.ipynb",
      "provenance": [],
      "collapsed_sections": [],
      "authorship_tag": "ABX9TyNMEWv9+YroiRWyFGyoQAcV",
      "include_colab_link": true
    },
    "kernelspec": {
      "name": "python3",
      "display_name": "Python 3"
    }
  },
  "cells": [
    {
      "cell_type": "markdown",
      "metadata": {
        "id": "view-in-github",
        "colab_type": "text"
      },
      "source": [
        "<a href=\"https://colab.research.google.com/github/bmurphy1993/NYU_bioinformatics_ass1/blob/master/Assignment_01_Biomarkers_Group_5.ipynb\" target=\"_parent\"><img src=\"https://colab.research.google.com/assets/colab-badge.svg\" alt=\"Open In Colab\"/></a>"
      ]
    },
    {
      "cell_type": "markdown",
      "metadata": {
        "id": "9_mSfMiwYg2C"
      },
      "source": [
        "\n",
        "# Assignment 1\n",
        "\n",
        "Group 5: Brian Murphy, Aravind Rajagopalan, Sinthema Roy, Ron Baik\n",
        "\n",
        "Using the Golub et. al. as a reference:\n",
        "1.\tRecreate Figure 3b - See how many overlaps you have with their top correlated genes\n",
        "2.\tTrain a model using the 50 most highly correlated genes (25 AML and 25 ALL) to predict the class of each sample using cross-validation.\n",
        "3.\tTry differing amounts of genes and compare the results eg:(top 2, 10, 100, 1000)\n",
        "4.\tCluster the data using any method you like (K-Means, Hierarchical). What are the defining features of the clusters?\n",
        "Optional: Does sample type matter (bone marrow vs peripheral blood)?\n",
        "\n",
        "Article: https://pubmed.ncbi.nlm.nih.gov/10521349/\n",
        "\n",
        "Data portal: http://portals.broadinstitute.org/cgi-bin/cancer/publications/pub_paper.cgi?mode=view&paper_id=43\n",
        "\n",
        "\n",
        "Report Format:\n",
        "\n",
        "*   Each group will submit a single report (This should be set up on Brightspace now)\n",
        "*   The report should include:\n",
        "  *   The tools you used and steps you followed to complete your analysis\n",
        "  *   Your results and findings\n",
        "  *   Any changes you made after the progress presentation should be mentioned\n",
        "  *   A breakdown of how each group member contributed to the project and a score out of 5 per group member\n",
        "  *   Submit a zipped folder containing your code and a README.md file with instructions to run the code\n",
        "      *   Or add a link to a GitHub repository containing your code to the report"
      ]
    },
    {
      "cell_type": "markdown",
      "metadata": {
        "id": "DkdPSieIYpN1"
      },
      "source": [
        "# Analysis"
      ]
    },
    {
      "cell_type": "markdown",
      "metadata": {
        "id": "0WSr7Xj5L4Qi"
      },
      "source": [
        "## Packages"
      ]
    },
    {
      "cell_type": "code",
      "metadata": {
        "id": "EnN5QUkCONOX",
        "outputId": "c3f08f29-018a-4d1c-d711-bfa11e50fb9c",
        "colab": {
          "base_uri": "https://localhost:8080/",
          "height": 67
        }
      },
      "source": [
        "# install packages\n",
        "!pip install openpyxl\n",
        "\n",
        "# import packages\n",
        "import pandas as pd\n",
        "import matplotlib.pyplot as plt\n",
        "import numpy as np\n",
        "from scipy import stats # for calculating z-scores\n",
        "# import os for working with local files\n",
        "import os\n",
        "import seaborn as sns\n",
        "import math # for the welch's t-test\n",
        "from tabulate import tabulate # for a pretty table\n",
        "\n",
        "# generate plots in the jupyter notebook\n",
        "%matplotlib inline\n",
        "\n",
        "# set the size of the figures \n",
        "sns.set(rc={'figure.figsize':(8,4), 'figure.dpi': 150}) # 12,6 was original figsize\n",
        "# set the backgrounds of figures to white with a grid\n",
        "sns.set_style(\"whitegrid\")\n",
        "# font size\n",
        "sns.set(font_scale=1)"
      ],
      "execution_count": 1,
      "outputs": [
        {
          "output_type": "stream",
          "text": [
            "Requirement already satisfied: openpyxl in /usr/local/lib/python3.6/dist-packages (2.5.9)\n",
            "Requirement already satisfied: jdcal in /usr/local/lib/python3.6/dist-packages (from openpyxl) (1.4.1)\n",
            "Requirement already satisfied: et-xmlfile in /usr/local/lib/python3.6/dist-packages (from openpyxl) (1.0.1)\n"
          ],
          "name": "stdout"
        }
      ]
    },
    {
      "cell_type": "markdown",
      "metadata": {
        "id": "Fr8MiIXeMEG7"
      },
      "source": [
        "## 1.\tRecreate Figure 3b - See how many overlaps you have with their top correlated genes"
      ]
    },
    {
      "cell_type": "markdown",
      "metadata": {
        "id": "YucXw8vMMOTc"
      },
      "source": [
        "Import Data: Train, Test, and metadata"
      ]
    },
    {
      "cell_type": "code",
      "metadata": {
        "id": "Ips3tz6pNrgK",
        "outputId": "cb12f395-f784-4eb3-a682-58cf26e181b6",
        "colab": {
          "base_uri": "https://localhost:8080/",
          "height": 368
        }
      },
      "source": [
        "# import train and test data, fix indexing and column names, transpose data\n",
        "  # train\n",
        "train = pd.read_csv(\n",
        "    'http://pubs.broadinstitute.org/mpr/projects/Leukemia/data_set_ALL_AML_train.txt',\n",
        "    sep='\\t',\n",
        "    index_col=False\n",
        "    )\n",
        "\n",
        "# len(train['Gene Accession Number'].unique())\n",
        "        # no duplicates in Gene Accession Number - 7129 unique vals\n",
        "train=train.loc[:,~train.columns.str.contains('call')].set_index('Gene Accession Number').drop(columns='Gene Description')\n",
        "\n",
        "print('train NAs: ',train.isna().sum().sum(),'\\n',\n",
        "      'train: ',train.shape,\n",
        "      train.head())\n",
        "\n",
        "  # test\n",
        "test = pd.read_csv(\n",
        "    'http://pubs.broadinstitute.org/mpr/projects/Leukemia/data_set_ALL_AML_independent.txt',\n",
        "    sep='\\t',\n",
        "    index_col=False\n",
        "    )\n",
        "\n",
        "# len(test['Gene Accession Number'].unique())\n",
        "        # no duplicates in Gene Accession Number - 7129 unique vals\n",
        "test=test.loc[:,~test.columns.str.contains('call')].set_index('Gene Accession Number').drop(columns='Gene Description')\n",
        "\n",
        "print('test NAs: ',test.isna().sum().sum(),'\\n',\n",
        "      'test: ',test.shape,'\\n',\n",
        "      test.head())\n",
        "\n",
        "  # Cleaned metadata\n",
        "meta = pd.read_csv(\n",
        "    'https://raw.githubusercontent.com/bmurphy1993/NYU_bioinformatics_ass1/master/table_ALL_AML_samples_clean.csv',\n",
        "    )\n",
        "# need to do anything with the rescaling factors?"
      ],
      "execution_count": 2,
      "outputs": [
        {
          "output_type": "stream",
          "text": [
            "train NAs:  0 \n",
            " train:  (7129, 38)                          1    2    3    4    5  ...   29   30   31   32   33\n",
            "Gene Accession Number                           ...                         \n",
            "AFFX-BioB-5_at        -214 -139  -76 -135 -106  ...   15 -318  -32 -124 -135\n",
            "AFFX-BioB-M_at        -153  -73  -49 -114 -125  ... -114 -192  -49  -79 -186\n",
            "AFFX-BioB-3_at         -58   -1 -307  265  -76  ...    2  -95   49  -37  -70\n",
            "AFFX-BioC-5_at          88  283  309   12  168  ...  193  312  230  330  337\n",
            "AFFX-BioC-3_at        -295 -264 -376 -419 -230  ...  -51 -139 -367 -188 -407\n",
            "\n",
            "[5 rows x 38 columns]\n",
            "test NAs:  0 \n",
            " test:  (7129, 34) \n",
            "                         39   40   42   47   48  ...   65   66   63   64   62\n",
            "Gene Accession Number                           ...                         \n",
            "AFFX-BioB-5_at        -342  -87   22 -243 -130  ...  -62  -58 -161  -48 -176\n",
            "AFFX-BioB-M_at        -200 -248 -153 -218 -177  ... -198 -217 -215 -531 -284\n",
            "AFFX-BioB-3_at          41  262   17 -163  -28  ...   -5   63  -46 -124  -81\n",
            "AFFX-BioC-5_at         328  295  276  182  266  ...  141   95  146  431    9\n",
            "AFFX-BioC-3_at        -224 -226 -211 -289 -170  ... -256 -191 -172 -496 -294\n",
            "\n",
            "[5 rows x 34 columns]\n"
          ],
          "name": "stdout"
        }
      ]
    },
    {
      "cell_type": "markdown",
      "metadata": {
        "id": "jlL5lW6HqePy"
      },
      "source": [
        "Check distribution with charts"
      ]
    },
    {
      "cell_type": "code",
      "metadata": {
        "id": "XhwbaXrNqeni",
        "outputId": "faf39852-ae1b-43cd-a7bf-f92830018384",
        "colab": {
          "base_uri": "https://localhost:8080/",
          "height": 593
        }
      },
      "source": [
        "# Train data\n",
        "sns.boxenplot(data=train, color='#507fbf')\n",
        "train_box = plt.xticks(rotation=90)\n",
        "train_box = plt.xlabel('Sample')\n",
        "train_box = plt.ylabel('Expression')\n",
        "train_box = plt.title('Train')\n",
        "plt.show()\n",
        "\n",
        "# Test data\n",
        "sns.boxenplot(data=test, color='#507fbf')\n",
        "test_box = plt.xticks(rotation=90)\n",
        "test_box = plt.xlabel('Sample')\n",
        "test_box = plt.ylabel('Expression')\n",
        "test_box = plt.title('Test')"
      ],
      "execution_count": 3,
      "outputs": [
        {
          "output_type": "display_data",
          "data": {
            "image/png": "[encoded data removed]",
            "text/plain": [
              "<Figure size 432x288 with 1 Axes>"
            ]
          },
          "metadata": {
            "tags": [],
            "needs_background": "light"
          }
        },
        {
          "output_type": "display_data",
          "data": {
            "image/png": "[encoded data removed]",
            "text/plain": [
              "<Figure size 432x288 with 1 Axes>"
            ]
          },
          "metadata": {
            "tags": [],
            "needs_background": "light"
          }
        }
      ]
    },
    {
      "cell_type": "markdown",
      "metadata": {
        "id": "1iH_47Ontb1W"
      },
      "source": [
        "Transpose data"
      ]
    },
    {
      "cell_type": "code",
      "metadata": {
        "id": "DLRKI0LOtcJf"
      },
      "source": [
        "# Train\n",
        "train_tr = train.transpose()\n",
        "train_tr.index=train_tr.index.astype(int)\n",
        "train_tr.index.name = 'Samples'\n",
        "train_tr=train_tr.sort_index()\n",
        "train=train_tr.transpose()\n",
        "\n",
        "# Test\n",
        "test_tr = test.transpose()\n",
        "test_tr.index=test_tr.index.astype(int)\n",
        "test_tr.index.name = 'Samples'\n",
        "test_tr=test_tr.sort_index()\n",
        "test=test_tr.transpose()"
      ],
      "execution_count": 4,
      "outputs": []
    },
    {
      "cell_type": "markdown",
      "metadata": {
        "id": "zBf1W9zU37IL"
      },
      "source": [
        "Data normalization"
      ]
    },
    {
      "cell_type": "code",
      "metadata": {
        "id": "JNd473zs37T5",
        "outputId": "00499db0-e181-492e-fb5a-b292e8f096fb",
        "colab": {
          "base_uri": "https://localhost:8080/",
          "height": 301
        }
      },
      "source": [
        "# Convert gene expressions into z-scores for each sample across genes\n",
        "  # Train\n",
        "cols_train = list(train.columns)\n",
        "train_z = pd.DataFrame()\n",
        "\n",
        "for col in cols_train:\n",
        "  train_z[col] = (train[col] - train[col].mean())/train[col].std(ddof=0)\n",
        "\n",
        "  # Test\n",
        "cols_test = list(test.columns)\n",
        "test_z = pd.DataFrame()\n",
        "\n",
        "for col in cols_test:\n",
        "  test_z[col] = (test[col] - test[col].mean())/test[col].std(ddof=0)\n",
        "\n",
        "print(train_z.head(),'\\n\\n',test_z.head())"
      ],
      "execution_count": 5,
      "outputs": [
        {
          "output_type": "stream",
          "text": [
            "                      1         2         3   ...        36        37        38\n",
            "AFFX-BioB-5_at -0.377790 -0.335912 -0.311532  ... -0.369196 -0.280829 -0.282606\n",
            "AFFX-BioB-M_at -0.350848 -0.309177 -0.300669  ... -0.383767 -0.278863 -0.309698\n",
            "AFFX-BioB-3_at -0.308889 -0.280011 -0.404472  ... -0.238800 -0.222245 -0.253896\n",
            "AFFX-BioC-5_at -0.244405 -0.164968 -0.156633  ... -0.170800 -0.143215 -0.094980\n",
            "AFFX-BioC-3_at -0.413565 -0.386547 -0.432233  ... -0.367701 -0.426699 -0.384506\n",
            "\n",
            "[5 rows x 38 columns] \n",
            "\n",
            "                       39        40        41  ...        70        71        72\n",
            "AFFX-BioB-5_at -0.373591 -0.266775 -0.266661  ... -0.243455 -0.274560 -0.324940\n",
            "AFFX-BioB-M_at -0.316190 -0.336634 -0.250079  ... -0.238800 -0.298376 -0.322769\n",
            "AFFX-BioB-3_at -0.218770 -0.115341 -0.243275  ... -0.215098 -0.239052 -0.289765\n",
            "AFFX-BioC-5_at -0.102754 -0.101022 -0.179922  ... -0.165578 -0.185790 -0.176422\n",
            "AFFX-BioC-3_at -0.325892 -0.327088 -0.339369  ... -0.265887 -0.323058 -0.357510\n",
            "\n",
            "[5 rows x 34 columns]\n"
          ],
          "name": "stdout"
        }
      ]
    },
    {
      "cell_type": "markdown",
      "metadata": {
        "id": "Wx3N3Zkl-8QR"
      },
      "source": [
        "Show z score distributions"
      ]
    },
    {
      "cell_type": "code",
      "metadata": {
        "id": "mDrEv4Mo-_D1",
        "outputId": "79d339a1-77d1-4e2c-e0a2-5b1021ccbe29",
        "colab": {
          "base_uri": "https://localhost:8080/",
          "height": 593
        }
      },
      "source": [
        "# Train data\n",
        "sns.boxenplot(data=train_z, color='#507fbf')\n",
        "train_z_box = plt.xticks(rotation=90)\n",
        "train_z_box = plt.xlabel('Sample')\n",
        "train_z_box = plt.ylabel('Expression')\n",
        "train_z_box = plt.title('Train')\n",
        "plt.show()\n",
        "\n",
        "# Test data\n",
        "sns.boxenplot(data=test_z, color='#507fbf')\n",
        "test_z_box = plt.xticks(rotation=90)\n",
        "test_z_box = plt.xlabel('Sample')\n",
        "test_z_box = plt.ylabel('Expression')\n",
        "test_z_box = plt.title('Test')"
      ],
      "execution_count": 6,
      "outputs": [
        {
          "output_type": "display_data",
          "data": {
            "image/png": "[encoded data removed]",
            "text/plain": [
              "<Figure size 432x288 with 1 Axes>"
            ]
          },
          "metadata": {
            "tags": [],
            "needs_background": "light"
          }
        },
        {
          "output_type": "display_data",
          "data": {
            "image/png": "[encoded data removed]",
            "text/plain": [
              "<Figure size 432x288 with 1 Axes>"
            ]
          },
          "metadata": {
            "tags": [],
            "needs_background": "light"
          }
        }
      ]
    },
    {
      "cell_type": "markdown",
      "metadata": {
        "id": "Q0qRPaEgkJhl"
      },
      "source": [
        "Get ALL and AML Lists"
      ]
    },
    {
      "cell_type": "code",
      "metadata": {
        "id": "42jRtEnVlBDG",
        "outputId": "b109569b-8bc1-431f-b05d-3087ca89bcc5",
        "colab": {
          "base_uri": "https://localhost:8080/",
          "height": 50
        }
      },
      "source": [
        "# Split into train and test\n",
        "meta_train = meta[meta.Set=='Train'].set_index('Samples').drop(columns='Set')\n",
        "meta_test = meta[meta.Set=='Test'].set_index('Samples').drop(columns='Set')\n",
        "\n",
        "# Create Sample-Type dictionary\n",
        "train_dict = dict(zip(meta_train.index, meta_train['ALL/AML']))\n",
        "\n",
        "# Create ALL and AML lists\n",
        "ALL_list = list(\n",
        "    map(lambda x: x[0], \n",
        "        filter(\n",
        "            lambda x: x[1] == 'ALL', \n",
        "            train_dict.items()\n",
        "        )\n",
        "       )\n",
        ")\n",
        "\n",
        "AML_list = list(\n",
        "    map(lambda x: x[0], \n",
        "        filter(\n",
        "            lambda x: x[1] == 'AML', \n",
        "            train_dict.items()\n",
        "        )\n",
        "       )\n",
        ")\n",
        "\n",
        "print('ALL: ', ALL_list)\n",
        "print('AML: ', AML_list)"
      ],
      "execution_count": 7,
      "outputs": [
        {
          "output_type": "stream",
          "text": [
            "ALL:  [1, 2, 3, 4, 5, 6, 7, 8, 9, 10, 11, 12, 13, 14, 15, 16, 17, 18, 19, 20, 21, 22, 23, 24, 25, 26, 27]\n",
            "AML:  [28, 29, 30, 31, 32, 33, 34, 35, 36, 37, 38]\n"
          ],
          "name": "stdout"
        }
      ]
    },
    {
      "cell_type": "markdown",
      "metadata": {
        "id": "6npjLvalffwQ"
      },
      "source": [
        "Rank the genes: sort by Welch's t-test"
      ]
    },
    {
      "cell_type": "code",
      "metadata": {
        "id": "OzWYnNc6flSs"
      },
      "source": [
        "# Calculate t-test scores to rank genes\n",
        "train_rank = train_z\n",
        "\n",
        "  # ALL\n",
        "train_rank[['ALL_mean', 'ALL_std']] = train_rank[ALL_list].agg(\n",
        "    ['mean', 'std'], axis=1\n",
        ")\n",
        "\n",
        "  # AML\n",
        "train_rank[['AML_mean', 'AML_std']] = train_rank[AML_list].agg(\n",
        "    ['mean', 'std'], axis=1\n",
        ")\n",
        "\n",
        "# Welch's t-test\n",
        "def welch_t_test(row):\n",
        "    return (\n",
        "        (row['AML_mean'] - row['ALL_mean']) / \n",
        "        np.sqrt(\n",
        "            row['AML_std']**2/len(ALL_list) + row['ALL_std']**2/len(AML_list)\n",
        "        )\n",
        "    )\n",
        "\n",
        "train_rank['similarity'] = train_rank[['AML_mean', 'AML_std', 'ALL_mean', 'ALL_std']].apply(welch_t_test, axis=1)\n",
        "\n",
        "# Rank the genes by similarity\n",
        "train_sorted = train_rank.sort_values('similarity').drop(columns=['ALL_mean', 'ALL_std', 'AML_mean', 'AML_std', 'similarity'])"
      ],
      "execution_count": 8,
      "outputs": []
    },
    {
      "cell_type": "markdown",
      "metadata": {
        "id": "-NNjKh1s-n2-"
      },
      "source": [
        "Test Welch's "
      ]
    },
    {
      "cell_type": "markdown",
      "metadata": {
        "id": "owy0gzCOrtst"
      },
      "source": [
        "Get top 25 ALL and AML"
      ]
    },
    {
      "cell_type": "code",
      "metadata": {
        "id": "XCIQGXQJr49r"
      },
      "source": [
        "# Ranks\n",
        "train_groups = train_sorted.head(25).append(train_sorted.tail(25))\n",
        "\n",
        "# normalize again:\n",
        "train_groups_tr=train_groups.transpose()\n",
        "cols_train = list(train_groups_tr.columns)\n",
        "train_norm = pd.DataFrame()\n",
        "\n",
        "for col in cols_train:\n",
        "  train_norm[col] = (train_groups_tr[col] - train_groups_tr[col].mean())/train_groups_tr[col].std(ddof=0)\n",
        "\n",
        "train_norm=train_norm.transpose()\n",
        "\n",
        "# Test\n",
        "# Subset to top 50 from train data\n",
        "test_groups = test_z[train_z.index.isin(train_groups.index)]\n",
        "\n",
        "# normalize again:\n",
        "test_groups_tr=test_groups.transpose()\n",
        "cols_test = list(test_groups_tr.columns)\n",
        "test_norm = pd.DataFrame()\n",
        "\n",
        "for col in cols_test:\n",
        "  test_norm[col] = (test_groups_tr[col] - test_groups_tr[col].mean())/test_groups_tr[col].std(ddof=0)\n",
        "\n",
        "test_norm=test_norm.transpose()"
      ],
      "execution_count": 9,
      "outputs": []
    },
    {
      "cell_type": "markdown",
      "metadata": {
        "id": "jQrsYB1zbfDI"
      },
      "source": [
        "Compare to Golub list of genes"
      ]
    },
    {
      "cell_type": "code",
      "metadata": {
        "id": "04QgT6nKbffV",
        "outputId": "f226b47c-f730-4ac2-9452-3e3f411734e6",
        "colab": {
          "base_uri": "https://localhost:8080/",
          "height": 760
        }
      },
      "source": [
        "Golub_tops = pd.read_csv(\n",
        "    'https://raw.githubusercontent.com/bmurphy1993/NYU_bioinformatics_ass1/master/Golub_genes.csv'\n",
        ")\n",
        "\n",
        "golub_compare = Golub_tops\n",
        "golub_compare['Group 5 Genes'] = train_norm.index\n",
        "golub_compare = golub_compare[['Golub_tops', 'Group 5 Genes', 'Class']]\n",
        "\n",
        "match_golub = []\n",
        "for i in golub_compare['Group 5 Genes']:\n",
        "  gene = [i]\n",
        "  if any(elem in gene for elem in golub_compare['Golub_tops'].tolist()) == True:\n",
        "    match = 1\n",
        "  else:\n",
        "    match = 0\n",
        "  match_golub.append(match)\n",
        "golub_compare['match_in_Golub'] = match_golub\n",
        "\n",
        "print('Golub_matches = ', golub_compare['match_in_Golub'].sum())\n",
        "# print(tabulate(golub_compare, headers='keys', tablefmt='psql'))\n",
        "\n",
        "\n",
        "from pandas.plotting import table \n",
        "\n",
        "ax = plt.subplot(111, frame_on=False) # no visible frame\n",
        "ax.xaxis.set_visible(False)  # hide the x axis\n",
        "ax.yaxis.set_visible(False)  # hide the y axis\n",
        "\n",
        "table(ax, golub_compare, rowLabels=['']*golub_compare.shape[0], loc='center')"
      ],
      "execution_count": 10,
      "outputs": [
        {
          "output_type": "stream",
          "text": [
            "Golub_matches =  33\n"
          ],
          "name": "stdout"
        },
        {
          "output_type": "stream",
          "text": [
            "/usr/local/lib/python3.6/dist-packages/ipykernel_launcher.py:17: SettingWithCopyWarning: \n",
            "A value is trying to be set on a copy of a slice from a DataFrame.\n",
            "Try using .loc[row_indexer,col_indexer] = value instead\n",
            "\n",
            "See the caveats in the documentation: https://pandas.pydata.org/pandas-docs/stable/user_guide/indexing.html#returning-a-view-versus-a-copy\n"
          ],
          "name": "stderr"
        },
        {
          "output_type": "execute_result",
          "data": {
            "text/plain": [
              "<matplotlib.table.Table at 0x7f97e9cf6b38>"
            ]
          },
          "metadata": {
            "tags": []
          },
          "execution_count": 10
        },
        {
          "output_type": "display_data",
          "data": {
            "image/png": "[encoded data removed]",
            "text/plain": [
              "<Figure size 432x288 with 1 Axes>"
            ]
          },
          "metadata": {
            "tags": [],
            "needs_background": "light"
          }
        }
      ]
    },
    {
      "cell_type": "markdown",
      "metadata": {
        "id": "yNJRykM3sJt4"
      },
      "source": [
        "Create heatmap"
      ]
    },
    {
      "cell_type": "code",
      "metadata": {
        "id": "y6wm51-TsKAL",
        "outputId": "7c97f523-734e-41cb-aac0-b097cc230069",
        "colab": {
          "base_uri": "https://localhost:8080/",
          "height": 286
        }
      },
      "source": [
        "sns.set(font_scale=.3)\n",
        "\n",
        "cmap = sns.diverging_palette(255, 10, s=95, l=35, n=12)\n",
        "\n",
        "train_heat = sns.heatmap(data=train_norm,\n",
        "                         cmap=cmap, \n",
        "                         square=1,\n",
        "                         vmin=-3, vmax=3,\n",
        "                         cbar_kws={\"shrink\": .5},\n",
        "                         linewidth=0.1,\n",
        "                         linecolor='gray')\n",
        "plt.title('Top 50 Genes: ALL vs. AML', size=9)\n",
        "plt.ylabel('Genes', size=8)\n",
        "plt.xlabel('Samples (ALL: 1-27, AML: 28-38)', size=6)\n",
        "plt.xticks(size=5, rotation='vertical')\n",
        "plt.yticks(size=5)\n",
        "cbar = train_heat.collections[0].colorbar\n",
        "cbar.ax.tick_params(labelsize=6)"
      ],
      "execution_count": 11,
      "outputs": [
        {
          "output_type": "display_data",
          "data": {
            "image/png": "[encoded data removed]",
            "text/plain": [
              "<Figure size 432x288 with 2 Axes>"
            ]
          },
          "metadata": {
            "tags": []
          }
        }
      ]
    },
    {
      "cell_type": "markdown",
      "metadata": {
        "id": "cQzw7zCoCJY7"
      },
      "source": [
        "## Prediction Model"
      ]
    },
    {
      "cell_type": "markdown",
      "metadata": {
        "id": "UbfPRRtsDe9x"
      },
      "source": [
        "### More Packages"
      ]
    },
    {
      "cell_type": "code",
      "metadata": {
        "id": "tdnTI7isCKHN"
      },
      "source": [
        "from sklearn.linear_model import LogisticRegression\n",
        "from sklearn.model_selection import train_test_split\n",
        "from sklearn.metrics import plot_confusion_matrix\n",
        "from sklearn.model_selection import LeaveOneOut"
      ],
      "execution_count": 12,
      "outputs": []
    },
    {
      "cell_type": "markdown",
      "metadata": {
        "id": "MU8YuathDkrS"
      },
      "source": [
        "### 2.\tTrain a model using the 50 most highly correlated genes (25 AML and 25 ALL) to predict the class of each sample using cross-validation.\n"
      ]
    },
    {
      "cell_type": "markdown",
      "metadata": {
        "id": "r9tHmnvzMQ7w"
      },
      "source": [
        "Merge Metadata"
      ]
    },
    {
      "cell_type": "code",
      "metadata": {
        "id": "C2N-f9sNL1Jk"
      },
      "source": [
        "# Merge cleaned metadata with each dataset\n",
        "  # Split into train and test\n",
        "meta_train = meta[meta.Set=='Train'].set_index('Samples').drop(columns='Set')\n",
        "meta_test = meta[meta.Set=='Test'].set_index('Samples').drop(columns='Set')\n",
        "\n",
        "  # Merge with train and test datasets\n",
        "train_norm_tr = train_norm.transpose()\n",
        "train_merge = train_norm_tr.merge(meta_train, left_index=True, right_index=True)\n",
        "\n",
        "# Only keep 'ALL/AML' for now\n",
        "train_labeled = train_merge.drop(columns=['BM/PB', 'T/B-cell', 'FAB', 'Date/Gender', '% Blasts', 'Treatment Response', 'PS', 'Source']).rename(columns={\"ALL/AML\": \"label\"})\n",
        "train_labeled['label'] = train_labeled['label'].astype('category')\n",
        "train_labeled['label_codes'] = train_labeled['label'].cat.codes\n",
        "\n",
        "# Test\n",
        "test_norm_tr = test_norm.transpose()\n",
        "test_merge = test_norm_tr.merge(meta_test, left_index=True, right_index=True)\n",
        "\n",
        "# Only keep 'ALL/AML' for now\n",
        "test_labeled = test_merge.drop(columns=['BM/PB', 'T/B-cell', 'FAB', 'Date/Gender', '% Blasts', 'Treatment Response', 'PS', 'Source']).rename(columns={\"ALL/AML\": \"label\"})\n",
        "test_labeled['label'] = test_labeled['label'].astype('category')\n",
        "test_labeled['label_codes'] = test_labeled['label'].cat.codes"
      ],
      "execution_count": 13,
      "outputs": []
    },
    {
      "cell_type": "markdown",
      "metadata": {
        "id": "zxr9SjYlXotU"
      },
      "source": [
        "Split train dataset into it's own train and test"
      ]
    },
    {
      "cell_type": "code",
      "metadata": {
        "id": "7ege0eIeXpEI"
      },
      "source": [
        "X_train, X_test, y_train, y_test = train_test_split(\n",
        "    train_labeled.drop(columns=['label', 'label_codes']), \n",
        "    train_labeled['label_codes'], \n",
        "    test_size=.73,\n",
        "    random_state=42)"
      ],
      "execution_count": 14,
      "outputs": []
    },
    {
      "cell_type": "markdown",
      "metadata": {
        "id": "DFGqA-dBX8wU"
      },
      "source": [
        "Train logistic regression and predict the test portion"
      ]
    },
    {
      "cell_type": "code",
      "metadata": {
        "id": "KOGU714lX9A3",
        "outputId": "8169c69d-2634-4b0e-a063-d13a65d81420",
        "colab": {
          "base_uri": "https://localhost:8080/",
          "height": 50
        }
      },
      "source": [
        "lr = LogisticRegression(random_state=0, solver='lbfgs')\n",
        "# train the model using the training data\n",
        "clf = lr.fit(X_train, y_train)\n",
        "# now that the model has been trained, predict the classes in the test set\n",
        "pred = clf.predict(X_test)\n",
        "# predict outputs labels, decision_function outputs the confidence scores\n",
        "y_scores = clf.decision_function(X_test)\n",
        "# print the accuracy sum(predicted == actual) / len(labels)\n",
        "print('Predicted Class:\\t', pred)\n",
        "print('Actual Class: \\t\\t', y_test.to_numpy())"
      ],
      "execution_count": 15,
      "outputs": [
        {
          "output_type": "stream",
          "text": [
            "Predicted Class:\t [1 1 0 0 1 0 0 1 0 0 0 0 0 0 0 0 1 0 0 0 0 0 1 0 0 1 1 0]\n",
            "Actual Class: \t\t [1 1 0 0 1 0 0 1 0 0 0 0 0 0 0 0 1 0 0 0 0 0 1 0 0 1 1 0]\n"
          ],
          "name": "stdout"
        }
      ]
    },
    {
      "cell_type": "markdown",
      "metadata": {
        "id": "MlTQ07cMZpnQ"
      },
      "source": [
        "Show y-scores"
      ]
    },
    {
      "cell_type": "code",
      "metadata": {
        "id": "FbS5p8GTZqAJ",
        "outputId": "b9d3f3a6-7b24-4677-b4aa-140fa4cea86b",
        "colab": {
          "base_uri": "https://localhost:8080/",
          "height": 117
        }
      },
      "source": [
        "# y_scores contains the confidence scores\n",
        "    # BM: what is the significance of these numbers? How do we interpret\n",
        "y_scores"
      ],
      "execution_count": 16,
      "outputs": [
        {
          "output_type": "execute_result",
          "data": {
            "text/plain": [
              "array([ 4.95980794,  6.33451743, -4.2545813 , -2.64687349,  3.85095921,\n",
              "       -3.99161096, -3.09977611,  2.80609294, -1.82241252, -5.48720951,\n",
              "       -2.13434466, -5.12055977, -3.54250333, -5.82891396, -7.03236619,\n",
              "       -3.05288414,  5.66154446, -4.44731914, -4.11775511, -3.7458361 ,\n",
              "       -0.40646246, -0.58764889,  3.65236418, -2.24136937, -4.52229908,\n",
              "        7.83969402,  7.74694684, -3.66515957])"
            ]
          },
          "metadata": {
            "tags": []
          },
          "execution_count": 16
        }
      ]
    },
    {
      "cell_type": "markdown",
      "metadata": {
        "id": "TRp2ZqvibSyj"
      },
      "source": [
        "Calculate accuracy"
      ]
    },
    {
      "cell_type": "code",
      "metadata": {
        "id": "1Gt6bTMAbTGS",
        "outputId": "12d1aac2-03e9-4c87-bc72-d04ccb7c69a7",
        "colab": {
          "base_uri": "https://localhost:8080/",
          "height": 33
        }
      },
      "source": [
        "# scoring the model will return the accuracy\n",
        "# this uses the test features and test labels\n",
        "clf.score(X_test, y_test)"
      ],
      "execution_count": 17,
      "outputs": [
        {
          "output_type": "execute_result",
          "data": {
            "text/plain": [
              "1.0"
            ]
          },
          "metadata": {
            "tags": []
          },
          "execution_count": 17
        }
      ]
    },
    {
      "cell_type": "markdown",
      "metadata": {
        "id": "WxXlLSIDbZAe"
      },
      "source": [
        "Create confusion matrix"
      ]
    },
    {
      "cell_type": "code",
      "metadata": {
        "id": "9AL9oia9bZSE",
        "outputId": "3608cbdd-46b4-415e-98b9-daf3230715bb",
        "colab": {
          "base_uri": "https://localhost:8080/",
          "height": 293
        }
      },
      "source": [
        "sns.set(font_scale=.75)\n",
        "\n",
        "disp = plot_confusion_matrix(clf, X_test, y_test,\n",
        "                                 display_labels=train_labeled['label'].cat.categories,\n",
        "                                 cmap=plt.cm.Blues,\n",
        "                                 normalize=None)\n",
        "disp.ax_.set_title('Train Data Confusion Matrix')\n",
        "disp.ax_.grid(False)\n",
        "disp.ax_.tick_params(axis='x')\n",
        "\n",
        "_ = disp.confusion_matrix"
      ],
      "execution_count": 18,
      "outputs": [
        {
          "output_type": "display_data",
          "data": {
            "image/png": "[encoded data removed]",
            "text/plain": [
              "<Figure size 432x288 with 2 Axes>"
            ]
          },
          "metadata": {
            "tags": []
          }
        }
      ]
    },
    {
      "cell_type": "markdown",
      "metadata": {
        "id": "zN2bVuq97hzR"
      },
      "source": [
        "Try the trained model on the Golub test dataset"
      ]
    },
    {
      "cell_type": "code",
      "metadata": {
        "id": "3I0mAxDmasNa",
        "outputId": "5de66f35-d814-4bee-8f66-3f67a025a2d5",
        "colab": {
          "base_uri": "https://localhost:8080/",
          "height": 67
        }
      },
      "source": [
        "test_predict = test_labeled.drop(columns=['label', 'label_codes'])[train_labeled.drop(columns=['label', 'label_codes']).columns]\n",
        "test_actual = test_labeled['label_codes']\n",
        "\n",
        "# train the model using the training data\n",
        "clf = lr.fit(train_labeled.drop(columns=['label', 'label_codes']), train_labeled['label_codes'])\n",
        "# now that the model has been trained, predict the classes in the test set\n",
        "pred_test = clf.predict(test_predict)\n",
        "\n",
        "print('Predicted Class:\\t', pred_test)\n",
        "print('Actual Class: \\t\\t', test_actual.to_numpy())\n",
        "print('Accuracy: \\t\\t',clf.score(test_predict, test_actual))"
      ],
      "execution_count": 19,
      "outputs": [
        {
          "output_type": "stream",
          "text": [
            "Predicted Class:\t [0 0 0 0 0 0 0 0 0 0 0 1 1 1 1 0 0 0 0 1 0 0 0 1 1 1 1 0 0 0 0 0 0 0]\n",
            "Actual Class: \t\t [0 0 0 0 0 0 0 0 0 0 0 1 1 1 1 1 0 0 1 1 0 1 1 1 1 1 1 1 0 0 0 0 0 0]\n",
            "Accuracy: \t\t 0.8529411764705882\n"
          ],
          "name": "stdout"
        }
      ]
    },
    {
      "cell_type": "markdown",
      "metadata": {
        "id": "PkEa7TcLFhun"
      },
      "source": [
        "Test Data Confusion Matrix"
      ]
    },
    {
      "cell_type": "code",
      "metadata": {
        "id": "X3dv-5rbFkN1",
        "outputId": "be79fc3c-d78e-435e-ccb3-dd967c40c7ac",
        "colab": {
          "base_uri": "https://localhost:8080/",
          "height": 293
        }
      },
      "source": [
        "disp_test = plot_confusion_matrix(clf, test_predict, test_actual,\n",
        "                                 display_labels=test_labeled['label'].cat.categories,\n",
        "                                 cmap=plt.cm.Blues,\n",
        "                                 normalize=None)\n",
        "disp_test.ax_.set_title('Test Data Confusion Matrix - Top 50 Genes')\n",
        "disp_test.ax_.grid(False)\n",
        "disp_test.ax_.tick_params(axis='x')\n",
        "\n",
        "_test = disp_test.confusion_matrix"
      ],
      "execution_count": 20,
      "outputs": [
        {
          "output_type": "display_data",
          "data": {
            "image/png": "[encoded data removed]",
            "text/plain": [
              "<Figure size 432x288 with 2 Axes>"
            ]
          },
          "metadata": {
            "tags": []
          }
        }
      ]
    },
    {
      "cell_type": "markdown",
      "metadata": {
        "id": "Yky-GP9ulKbP"
      },
      "source": [
        "Cross-validation"
      ]
    },
    {
      "cell_type": "code",
      "metadata": {
        "id": "RnVq7FculKwn",
        "outputId": "6374cbf1-898a-4e9f-a434-628479196bc4",
        "colab": {
          "base_uri": "https://localhost:8080/",
          "height": 53
        }
      },
      "source": [
        "# Leave one out cross validation using scikit\n",
        "\n",
        "# Create a new LeaveOneOut object and assign it to loo\n",
        "loo = LeaveOneOut()\n",
        "# Calculate the number of splits, this uses the number of rows in the features set\n",
        "loo.get_n_splits(train_labeled)\n",
        "\n",
        "max_probs = []\n",
        "\n",
        "# loo.split(features) will return column indexes for train and test sets\n",
        "# . the train will have len(samples) -1 elements\n",
        "# . the test set will contain a single index\n",
        "for train_index, test_index in loo.split(train_labeled):\n",
        "    # split the data into train and test sets using the indicies\n",
        "    train_labeled, \n",
        "    train_labeled\n",
        "    X_train = train_labeled.iloc[train_index].drop(columns=['label', 'label_codes'])\n",
        "    X_test = train_labeled.iloc[test_index].drop(columns=['label', 'label_codes'])\n",
        "    y_train = train_labeled.iloc[train_index]['label_codes']\n",
        "    y_test = train_labeled.iloc[test_index]['label_codes']\n",
        "    \n",
        "    # Create a new model each time so that the weights are reset each iteration \n",
        "    lr = LogisticRegression(solver='lbfgs')\n",
        "    # train the model using the training set\n",
        "    clf = lr.fit(X_train, y_train)\n",
        "    # print the accuracy of the model using the test set\n",
        "    print(clf.score(X_test, y_test), end=', ')\n",
        "    # this will output the probilites per test case\n",
        "    #   as we only have one test we can use zero to index it\n",
        "    max_probs.append(max(clf.predict_proba(X_test)[0]))"
      ],
      "execution_count": 21,
      "outputs": [
        {
          "output_type": "stream",
          "text": [
            "1.0, 1.0, 1.0, 1.0, 1.0, 1.0, 1.0, 1.0, 1.0, 1.0, 1.0, 1.0, 1.0, 1.0, 1.0, 1.0, 1.0, 1.0, 1.0, 1.0, 1.0, 1.0, 1.0, 1.0, 1.0, 1.0, 1.0, 1.0, 1.0, 1.0, 1.0, 1.0, 1.0, 1.0, 0.0, 1.0, 1.0, 1.0, "
          ],
          "name": "stdout"
        }
      ]
    },
    {
      "cell_type": "markdown",
      "metadata": {
        "id": "JnCK05x5lye-"
      },
      "source": [
        "Plot prediction strength"
      ]
    },
    {
      "cell_type": "code",
      "metadata": {
        "id": "JBDPHb99l0WU",
        "outputId": "a386ae66-b55e-4556-8120-00f473bb6cda",
        "colab": {
          "base_uri": "https://localhost:8080/",
          "height": 408
        }
      },
      "source": [
        "fig = plt.figure(figsize=(4, 2), dpi=150)\n",
        "g = sns.stripplot(max_probs)\n",
        "plt.title('Prediction Strength - Top 50 genes')"
      ],
      "execution_count": 22,
      "outputs": [
        {
          "output_type": "stream",
          "text": [
            "/usr/local/lib/python3.6/dist-packages/seaborn/_decorators.py:43: FutureWarning: Pass the following variable as a keyword arg: x. From version 0.12, the only valid positional argument will be `data`, and passing other arguments without an explicit keyword will result in an error or misinterpretation.\n",
            "  FutureWarning\n"
          ],
          "name": "stderr"
        },
        {
          "output_type": "execute_result",
          "data": {
            "text/plain": [
              "Text(0.5, 1.0, 'Prediction Strength - Top 50 genes')"
            ]
          },
          "metadata": {
            "tags": []
          },
          "execution_count": 22
        },
        {
          "output_type": "display_data",
          "data": {
            "image/png": "[encoded data removed]",
            "text/plain": [
              "<Figure size 600x300 with 1 Axes>"
            ]
          },
          "metadata": {
            "tags": []
          }
        }
      ]
    },
    {
      "cell_type": "markdown",
      "metadata": {
        "id": "B6CCVHkin1CO"
      },
      "source": [
        "## 3.\tTry differing amounts of genes and compare the results eg:(top 2, 10, 100, 1000)\n"
      ]
    },
    {
      "cell_type": "code",
      "metadata": {
        "id": "D4umJG2En4Fa",
        "outputId": "6b2b9251-59f6-4471-91b5-1d3ea7d15ed7",
        "colab": {
          "base_uri": "https://localhost:8080/",
          "height": 768
        }
      },
      "source": [
        "# top 2 genes\n",
        "# Ranks\n",
        "train_groups2 = train_sorted.head(2).append(train_sorted.tail(2))\n",
        "print(train_groups2.index)\n",
        "\n",
        "# normalize again:\n",
        "train_groups2_tr=train_groups2.transpose()\n",
        "cols_train2 = list(train_groups2_tr.columns)\n",
        "train_norm2 = pd.DataFrame()\n",
        "\n",
        "for col in cols_train2:\n",
        "  train_norm2[col] = (train_groups2_tr[col] - train_groups2_tr[col].mean())/train_groups2_tr[col].std(ddof=0)\n",
        "\n",
        "train_norm2=train_norm2.transpose()\n",
        "\n",
        "# Test\n",
        "# Subset to top 2 from train data\n",
        "test_groups2 = test_z[train_z.index.isin(train_groups2.index)]\n",
        "\n",
        "# normalize again:\n",
        "test_groups2_tr=test_groups2.transpose()\n",
        "cols_test2 = list(test_groups2_tr.columns)\n",
        "test_norm2 = pd.DataFrame()\n",
        "\n",
        "for col in cols_test2:\n",
        "  test_norm2[col] = (test_groups2_tr[col] - test_groups2_tr[col].mean())/test_groups2_tr[col].std(ddof=0)\n",
        "\n",
        "test_norm2=test_norm2.transpose()\n",
        "\n",
        "  # Merge with train and test datasets\n",
        "train_norm2_tr = train_norm2.transpose()\n",
        "train_merge2 = train_norm2_tr.merge(meta_train, left_index=True, right_index=True)\n",
        "\n",
        "# Only keep 'ALL/AML' for now\n",
        "train_labeled2 = train_merge2.drop(\n",
        "    columns=['BM/PB', 'T/B-cell', 'FAB', 'Date/Gender', '% Blasts', 'Treatment Response', 'PS', 'Source']).rename(\n",
        "        columns={\"ALL/AML\": \"label\"})\n",
        "train_labeled2['label'] = train_labeled2['label'].astype('category')\n",
        "train_labeled2['label_codes'] = train_labeled2['label'].cat.codes\n",
        "\n",
        "# Test\n",
        "test_norm2_tr = test_norm2.transpose()\n",
        "test_merge2 = test_norm2_tr.merge(meta_test, left_index=True, right_index=True)\n",
        "\n",
        "# Only keep 'ALL/AML' for now\n",
        "test_labeled2 = test_merge2.drop(\n",
        "    columns=['BM/PB', 'T/B-cell', 'FAB', 'Date/Gender', '% Blasts', 'Treatment Response', 'PS', 'Source']).rename(\n",
        "        columns={\"ALL/AML\": \"label\"})\n",
        "test_labeled2['label'] = test_labeled2['label'].astype('category')\n",
        "test_labeled2['label_codes'] = test_labeled2['label'].cat.codes\n",
        "\n",
        "# Train and test model with top 2 genes\n",
        "test_predict2 = test_labeled2.drop(columns=['label', 'label_codes'])[train_labeled2.drop(columns=['label', 'label_codes']).columns]\n",
        "test_actual2 = test_labeled2['label_codes']\n",
        "\n",
        "# train the model using the training data\n",
        "clf = lr.fit(train_labeled2.drop(columns=['label', 'label_codes']), train_labeled2['label_codes'])\n",
        "# now that the model has been trained, predict the classes in the test set\n",
        "pred_test2 = clf.predict(test_predict2)\n",
        "\n",
        "print('Predicted Class:\\t', pred_test2)\n",
        "print('Actual Class: \\t\\t', test_actual2.to_numpy())\n",
        "print('Accuracy: \\t\\t',clf.score(test_predict2, test_actual2),'\\n')\n",
        "\n",
        "# Confusion Matrix\n",
        "disp_test2 = plot_confusion_matrix(clf, test_predict2, test_actual2,\n",
        "                                 display_labels=test_labeled2['label'].cat.categories,\n",
        "                                 cmap=plt.cm.Blues,\n",
        "                                 normalize=None)\n",
        "disp_test2.ax_.set_title('Test Data Confusion Matrix - Top 2 Genes')\n",
        "disp_test2.ax_.grid(False)\n",
        "disp_test2.ax_.tick_params(axis='x')\n",
        "\n",
        "_test2 = disp_test2.confusion_matrix\n",
        "\n",
        "# Cross Validation\n",
        "\n",
        "# Create a new LeaveOneOut object and assign it to loo\n",
        "loo = LeaveOneOut()\n",
        "# Calculate the number of splits, this uses the number of rows in the features set\n",
        "loo.get_n_splits(train_labeled2)\n",
        "\n",
        "max_probs = []\n",
        "\n",
        "# loo.split(features) will return column indexes for train and test sets\n",
        "# . the train will have len(samples) -1 elements\n",
        "# . the test set will contain a single index\n",
        "for train_index, test_index in loo.split(train_labeled2):\n",
        "    # split the data into train and test sets using the indicies\n",
        "    train_labeled2, \n",
        "    train_labeled2\n",
        "    X_train = train_labeled2.iloc[train_index].drop(columns=['label', 'label_codes'])\n",
        "    X_test = train_labeled2.iloc[test_index].drop(columns=['label', 'label_codes'])\n",
        "    y_train = train_labeled2.iloc[train_index]['label_codes']\n",
        "    y_test = train_labeled2.iloc[test_index]['label_codes']\n",
        "    \n",
        "    # Create a new model each time so that the weights are reset each iteration \n",
        "    lr = LogisticRegression(solver='lbfgs')\n",
        "    # train the model using the training set\n",
        "    clf = lr.fit(X_train, y_train)\n",
        "    # print the accuracy of the model using the test set\n",
        "    print(clf.score(X_test, y_test), end=', ')\n",
        "    # this will output the probilites per test case\n",
        "    #   as we only have one test we can use zero to index it\n",
        "    max_probs.append(max(clf.predict_proba(X_test)[0]))\n",
        "\n",
        "fig = plt.figure(figsize=(4, 2), dpi=150)\n",
        "g = sns.stripplot(max_probs)\n",
        "plt.title('Prediction Strength - Top 2 Genes')"
      ],
      "execution_count": 23,
      "outputs": [
        {
          "output_type": "stream",
          "text": [
            "Index(['M31211_s_at', 'U37055_rna1_s_at', 'U50136_rna1_at', 'X95735_at'], dtype='object')\n",
            "Predicted Class:\t [0 0 0 0 0 0 0 0 0 0 0 1 1 0 1 0 0 0 0 1 0 0 0 1 1 1 1 0 0 0 0 0 0 0]\n",
            "Actual Class: \t\t [0 0 0 0 0 0 0 0 0 0 0 1 1 1 1 1 0 0 1 1 0 1 1 1 1 1 1 1 0 0 0 0 0 0]\n",
            "Accuracy: \t\t 0.8235294117647058 \n",
            "\n",
            "1.0, 1.0, 1.0, 1.0, 1.0, 1.0, 1.0, 1.0, 1.0, 1.0, 1.0, 1.0, 1.0, 1.0, 1.0, 1.0, 1.0, 1.0, 1.0, 1.0, 1.0, 1.0, 1.0, 1.0, 1.0, 1.0, 1.0, 1.0, 1.0, 1.0, 1.0, 1.0, 1.0, 1.0, 1.0, 1.0, 1.0, 1.0, "
          ],
          "name": "stdout"
        },
        {
          "output_type": "stream",
          "text": [
            "/usr/local/lib/python3.6/dist-packages/seaborn/_decorators.py:43: FutureWarning: Pass the following variable as a keyword arg: x. From version 0.12, the only valid positional argument will be `data`, and passing other arguments without an explicit keyword will result in an error or misinterpretation.\n",
            "  FutureWarning\n"
          ],
          "name": "stderr"
        },
        {
          "output_type": "execute_result",
          "data": {
            "text/plain": [
              "Text(0.5, 1.0, 'Prediction Strength - Top 2 Genes')"
            ]
          },
          "metadata": {
            "tags": []
          },
          "execution_count": 23
        },
        {
          "output_type": "display_data",
          "data": {
            "image/png": "[encoded data removed]",
            "text/plain": [
              "<Figure size 432x288 with 2 Axes>"
            ]
          },
          "metadata": {
            "tags": []
          }
        },
        {
          "output_type": "display_data",
          "data": {
            "image/png": "[encoded data removed]",
            "text/plain": [
              "<Figure size 600x300 with 1 Axes>"
            ]
          },
          "metadata": {
            "tags": []
          }
        }
      ]
    },
    {
      "cell_type": "code",
      "metadata": {
        "id": "hfs_ONC33NC3",
        "outputId": "f3a4c063-d025-4834-9949-d5f7acbd2163",
        "colab": {
          "base_uri": "https://localhost:8080/",
          "height": 868
        }
      },
      "source": [
        "# top 100 genes\n",
        "# Ranks\n",
        "train_groups100 = train_sorted.head(100).append(train_sorted.tail(100))\n",
        "print(train_groups100.index)\n",
        "\n",
        "# normalize again:\n",
        "train_groups100_tr=train_groups100.transpose()\n",
        "cols_train100 = list(train_groups100_tr.columns)\n",
        "train_norm100 = pd.DataFrame()\n",
        "\n",
        "for col in cols_train100:\n",
        "  train_norm100[col] = (train_groups100_tr[col] - train_groups100_tr[col].mean())/train_groups100_tr[col].std(ddof=0)\n",
        "\n",
        "train_norm100=train_norm100.transpose()\n",
        "\n",
        "# Test\n",
        "# Subset to top 100 from train data\n",
        "test_groups100 = test_z[train_z.index.isin(train_groups100.index)]\n",
        "\n",
        "# normalize again:\n",
        "test_groups100_tr=test_groups100.transpose()\n",
        "cols_test100 = list(test_groups100_tr.columns)\n",
        "test_norm100 = pd.DataFrame()\n",
        "\n",
        "for col in cols_test100:\n",
        "  test_norm100[col] = (test_groups100_tr[col] - test_groups100_tr[col].mean())/test_groups100_tr[col].std(ddof=0)\n",
        "\n",
        "test_norm100=test_norm100.transpose()\n",
        "\n",
        "  # Merge with train and test datasets\n",
        "train_norm100_tr = train_norm100.transpose()\n",
        "train_merge100 = train_norm100_tr.merge(meta_train, left_index=True, right_index=True)\n",
        "\n",
        "# Only keep 'ALL/AML' for now\n",
        "train_labeled100 = train_merge100.drop(\n",
        "    columns=['BM/PB', 'T/B-cell', 'FAB', 'Date/Gender', '% Blasts', 'Treatment Response', 'PS', 'Source']).rename(\n",
        "        columns={\"ALL/AML\": \"label\"})\n",
        "train_labeled100['label'] = train_labeled100['label'].astype('category')\n",
        "train_labeled100['label_codes'] = train_labeled100['label'].cat.codes\n",
        "\n",
        "# Test\n",
        "test_norm100_tr = test_norm100.transpose()\n",
        "test_merge100 = test_norm100_tr.merge(meta_test, left_index=True, right_index=True)\n",
        "\n",
        "# Only keep 'ALL/AML' for now\n",
        "test_labeled100 = test_merge100.drop(\n",
        "    columns=['BM/PB', 'T/B-cell', 'FAB', 'Date/Gender', '% Blasts', 'Treatment Response', 'PS', 'Source']).rename(\n",
        "        columns={\"ALL/AML\": \"label\"})\n",
        "test_labeled100['label'] = test_labeled100['label'].astype('category')\n",
        "test_labeled100['label_codes'] = test_labeled100['label'].cat.codes\n",
        "\n",
        "# Train and test model with top 100 genes\n",
        "test_predict100 = test_labeled100.drop(columns=['label', 'label_codes'])[train_labeled100.drop(columns=['label', 'label_codes']).columns]\n",
        "test_actual100 = test_labeled100['label_codes']\n",
        "\n",
        "# train the model using the training data\n",
        "clf = lr.fit(train_labeled100.drop(columns=['label', 'label_codes']), train_labeled100['label_codes'])\n",
        "# now that the model has been trained, predict the classes in the test set\n",
        "pred_test100 = clf.predict(test_predict100)\n",
        "\n",
        "print('Predicted Class:\\t', pred_test100)\n",
        "print('Actual Class: \\t\\t', test_actual100.to_numpy())\n",
        "print('Accuracy: \\t\\t',clf.score(test_predict100, test_actual100),'\\n')\n",
        "\n",
        "# Confusion Matrix\n",
        "disp_test100 = plot_confusion_matrix(clf, test_predict100, test_actual100,\n",
        "                                 display_labels=test_labeled100['label'].cat.categories,\n",
        "                                 cmap=plt.cm.Blues,\n",
        "                                 normalize=None)\n",
        "disp_test100.ax_.set_title('Test Data Confusion Matrix - Top 100 Genes')\n",
        "disp_test100.ax_.grid(False)\n",
        "disp_test100.ax_.tick_params(axis='x')\n",
        "\n",
        "_test100 = disp_test100.confusion_matrix\n",
        "\n",
        "# Cross Validation\n",
        "\n",
        "# Create a new LeaveOneOut object and assign it to loo\n",
        "loo = LeaveOneOut()\n",
        "# Calculate the number of splits, this uses the number of rows in the features set\n",
        "loo.get_n_splits(train_labeled100)\n",
        "\n",
        "max_probs = []\n",
        "\n",
        "# loo.split(features) will return column indexes for train and test sets\n",
        "# . the train will have len(samples) -1 elements\n",
        "# . the test set will contain a single index\n",
        "for train_index, test_index in loo.split(train_labeled100):\n",
        "    # split the data into train and test sets using the indicies\n",
        "    train_labeled100, \n",
        "    train_labeled100\n",
        "    X_train = train_labeled100.iloc[train_index].drop(columns=['label', 'label_codes'])\n",
        "    X_test = train_labeled100.iloc[test_index].drop(columns=['label', 'label_codes'])\n",
        "    y_train = train_labeled100.iloc[train_index]['label_codes']\n",
        "    y_test = train_labeled100.iloc[test_index]['label_codes']\n",
        "    \n",
        "    # Create a new model each time so that the weights are reset each iteration \n",
        "    lr = LogisticRegression(solver='lbfgs')\n",
        "    # train the model using the training set\n",
        "    clf = lr.fit(X_train, y_train)\n",
        "    # print the accuracy of the model using the test set\n",
        "    print(clf.score(X_test, y_test), end=', ')\n",
        "    # this will output the probilites per test case\n",
        "    #   as we only have one test we can use zero to index it\n",
        "    max_probs.append(max(clf.predict_proba(X_test)[0]))\n",
        "\n",
        "fig = plt.figure(figsize=(4, 2), dpi=150)\n",
        "g = sns.stripplot(max_probs)\n",
        "plt.title('Prediction Strength - Top 100 Genes')"
      ],
      "execution_count": 24,
      "outputs": [
        {
          "output_type": "stream",
          "text": [
            "Index(['M31211_s_at', 'U37055_rna1_s_at', 'U22376_cds2_s_at', 'X15414_at',\n",
            "       'X63469_at', 'L13278_at', 'L07758_at', 'S50223_at', 'U26266_s_at',\n",
            "       'X52142_at',\n",
            "       ...\n",
            "       'L08246_at', 'M62762_at', 'M23197_at', 'M80254_at', 'X17042_at',\n",
            "       'Y12670_at', 'M16038_at', 'M55150_at', 'U50136_rna1_at', 'X95735_at'],\n",
            "      dtype='object', length=200)\n",
            "Predicted Class:\t [0 0 0 0 0 0 0 0 0 0 0 1 1 1 1 0 0 0 0 1 0 0 1 1 1 1 1 0 0 0 0 0 0 0]\n",
            "Actual Class: \t\t [0 0 0 0 0 0 0 0 0 0 0 1 1 1 1 1 0 0 1 1 0 1 1 1 1 1 1 1 0 0 0 0 0 0]\n",
            "Accuracy: \t\t 0.8823529411764706 \n",
            "\n",
            "1.0, 1.0, 1.0, 1.0, 1.0, 1.0, 1.0, 1.0, 1.0, 1.0, 1.0, 1.0, 1.0, 1.0, 1.0, 1.0, 1.0, 1.0, 1.0, 1.0, 1.0, 1.0, 1.0, 1.0, 1.0, 1.0, 1.0, 1.0, 1.0, 1.0, 1.0, 1.0, 1.0, 1.0, 1.0, 1.0, 1.0, 1.0, "
          ],
          "name": "stdout"
        },
        {
          "output_type": "stream",
          "text": [
            "/usr/local/lib/python3.6/dist-packages/seaborn/_decorators.py:43: FutureWarning: Pass the following variable as a keyword arg: x. From version 0.12, the only valid positional argument will be `data`, and passing other arguments without an explicit keyword will result in an error or misinterpretation.\n",
            "  FutureWarning\n"
          ],
          "name": "stderr"
        },
        {
          "output_type": "execute_result",
          "data": {
            "text/plain": [
              "Text(0.5, 1.0, 'Prediction Strength - Top 100 Genes')"
            ]
          },
          "metadata": {
            "tags": []
          },
          "execution_count": 24
        },
        {
          "output_type": "display_data",
          "data": {
            "image/png": "[encoded data removed]",
            "text/plain": [
              "<Figure size 432x288 with 2 Axes>"
            ]
          },
          "metadata": {
            "tags": []
          }
        },
        {
          "output_type": "display_data",
          "data": {
            "image/png": "[encoded data removed]",
            "text/plain": [
              "<Figure size 600x300 with 1 Axes>"
            ]
          },
          "metadata": {
            "tags": []
          }
        }
      ]
    },
    {
      "cell_type": "code",
      "metadata": {
        "id": "6XRwYhzp5jdl",
        "outputId": "86f31009-e04a-402a-e8c7-b5721400905c",
        "colab": {
          "base_uri": "https://localhost:8080/",
          "height": 868
        }
      },
      "source": [
        "# top 1000 genes\n",
        "# Ranks\n",
        "train_groups1000 = train_sorted.head(1000).append(train_sorted.tail(1000))\n",
        "print(train_groups1000.index)\n",
        "\n",
        "# normalize again:\n",
        "train_groups1000_tr=train_groups1000.transpose()\n",
        "cols_train1000 = list(train_groups1000_tr.columns)\n",
        "train_norm1000 = pd.DataFrame()\n",
        "\n",
        "for col in cols_train1000:\n",
        "  train_norm1000[col] = (train_groups1000_tr[col] - train_groups1000_tr[col].mean())/train_groups1000_tr[col].std(ddof=0)\n",
        "\n",
        "train_norm1000=train_norm1000.transpose()\n",
        "\n",
        "# Test\n",
        "# Subset to top 1000 from train data\n",
        "test_groups1000 = test_z[train_z.index.isin(train_groups1000.index)]\n",
        "\n",
        "# normalize again:\n",
        "test_groups1000_tr=test_groups1000.transpose()\n",
        "cols_test1000 = list(test_groups1000_tr.columns)\n",
        "test_norm1000 = pd.DataFrame()\n",
        "\n",
        "for col in cols_test1000:\n",
        "  test_norm1000[col] = (test_groups1000_tr[col] - test_groups1000_tr[col].mean())/test_groups1000_tr[col].std(ddof=0)\n",
        "\n",
        "test_norm1000=test_norm1000.transpose()\n",
        "\n",
        "  # Merge with train and test datasets\n",
        "train_norm1000_tr = train_norm1000.transpose()\n",
        "train_merge1000 = train_norm1000_tr.merge(meta_train, left_index=True, right_index=True)\n",
        "\n",
        "# Only keep 'ALL/AML' for now\n",
        "train_labeled1000 = train_merge1000.drop(\n",
        "    columns=['BM/PB', 'T/B-cell', 'FAB', 'Date/Gender', '% Blasts', 'Treatment Response', 'PS', 'Source']).rename(\n",
        "        columns={\"ALL/AML\": \"label\"})\n",
        "train_labeled1000['label'] = train_labeled1000['label'].astype('category')\n",
        "train_labeled1000['label_codes'] = train_labeled1000['label'].cat.codes\n",
        "\n",
        "# Test\n",
        "test_norm1000_tr = test_norm1000.transpose()\n",
        "test_merge1000 = test_norm1000_tr.merge(meta_test, left_index=True, right_index=True)\n",
        "\n",
        "# Only keep 'ALL/AML' for now\n",
        "test_labeled1000 = test_merge1000.drop(\n",
        "    columns=['BM/PB', 'T/B-cell', 'FAB', 'Date/Gender', '% Blasts', 'Treatment Response', 'PS', 'Source']).rename(\n",
        "        columns={\"ALL/AML\": \"label\"})\n",
        "test_labeled1000['label'] = test_labeled1000['label'].astype('category')\n",
        "test_labeled1000['label_codes'] = test_labeled1000['label'].cat.codes\n",
        "\n",
        "# Train and test model with top 1000 genes\n",
        "test_predict1000 = test_labeled1000.drop(columns=['label', 'label_codes'])[train_labeled1000.drop(columns=['label', 'label_codes']).columns]\n",
        "test_actual1000 = test_labeled1000['label_codes']\n",
        "\n",
        "# train the model using the training data\n",
        "clf = lr.fit(train_labeled1000.drop(columns=['label', 'label_codes']), train_labeled1000['label_codes'])\n",
        "# now that the model has been trained, predict the classes in the test set\n",
        "pred_test1000 = clf.predict(test_predict1000)\n",
        "\n",
        "print('Predicted Class:\\t', pred_test1000)\n",
        "print('Actual Class: \\t\\t', test_actual1000.to_numpy())\n",
        "print('Accuracy: \\t\\t',clf.score(test_predict1000, test_actual1000),'\\n')\n",
        "\n",
        "# Confusion Matrix\n",
        "disp_test1000 = plot_confusion_matrix(clf, test_predict1000, test_actual1000,\n",
        "                                 display_labels=test_labeled1000['label'].cat.categories,\n",
        "                                 cmap=plt.cm.Blues,\n",
        "                                 normalize=None)\n",
        "disp_test1000.ax_.set_title('Test Data Confusion Matrix - Top 1000 Genes')\n",
        "disp_test1000.ax_.grid(False)\n",
        "disp_test1000.ax_.tick_params(axis='x')\n",
        "\n",
        "_test1000 = disp_test1000.confusion_matrix\n",
        "\n",
        "# Cross Validation\n",
        "\n",
        "# Create a new LeaveOneOut object and assign it to loo\n",
        "loo = LeaveOneOut()\n",
        "# Calculate the number of splits, this uses the number of rows in the features set\n",
        "loo.get_n_splits(train_labeled1000)\n",
        "\n",
        "max_probs = []\n",
        "\n",
        "# loo.split(features) will return column indexes for train and test sets\n",
        "# . the train will have len(samples) -1 elements\n",
        "# . the test set will contain a single index\n",
        "for train_index, test_index in loo.split(train_labeled1000):\n",
        "    # split the data into train and test sets using the indicies\n",
        "    train_labeled1000, \n",
        "    train_labeled1000\n",
        "    X_train = train_labeled1000.iloc[train_index].drop(columns=['label', 'label_codes'])\n",
        "    X_test = train_labeled1000.iloc[test_index].drop(columns=['label', 'label_codes'])\n",
        "    y_train = train_labeled1000.iloc[train_index]['label_codes']\n",
        "    y_test = train_labeled1000.iloc[test_index]['label_codes']\n",
        "    \n",
        "    # Create a new model each time so that the weights are reset each iteration \n",
        "    lr = LogisticRegression(solver='lbfgs')\n",
        "    # train the model using the training set\n",
        "    clf = lr.fit(X_train, y_train)\n",
        "    # print the accuracy of the model using the test set\n",
        "    print(clf.score(X_test, y_test), end=', ')\n",
        "    # this will output the probilites per test case\n",
        "    #   as we only have one test we can use zero to index it\n",
        "    max_probs.append(max(clf.predict_proba(X_test)[0]))\n",
        "\n",
        "fig = plt.figure(figsize=(4, 2), dpi=150)\n",
        "g = sns.stripplot(max_probs)\n",
        "plt.title('Prediction Strength - Top 1000 Genes')"
      ],
      "execution_count": 25,
      "outputs": [
        {
          "output_type": "stream",
          "text": [
            "Index(['M31211_s_at', 'U37055_rna1_s_at', 'U22376_cds2_s_at', 'X15414_at',\n",
            "       'X63469_at', 'L13278_at', 'L07758_at', 'S50223_at', 'U26266_s_at',\n",
            "       'X52142_at',\n",
            "       ...\n",
            "       'L08246_at', 'M62762_at', 'M23197_at', 'M80254_at', 'X17042_at',\n",
            "       'Y12670_at', 'M16038_at', 'M55150_at', 'U50136_rna1_at', 'X95735_at'],\n",
            "      dtype='object', length=2000)\n",
            "Predicted Class:\t [0 0 0 0 0 0 0 0 0 0 0 1 1 1 1 0 0 0 0 1 0 0 0 1 1 1 0 0 0 0 0 0 0 0]\n",
            "Actual Class: \t\t [0 0 0 0 0 0 0 0 0 0 0 1 1 1 1 1 0 0 1 1 0 1 1 1 1 1 1 1 0 0 0 0 0 0]\n",
            "Accuracy: \t\t 0.8235294117647058 \n",
            "\n",
            "1.0, 1.0, 1.0, 1.0, 1.0, 1.0, 1.0, 1.0, 1.0, 1.0, 1.0, 1.0, 1.0, 1.0, 1.0, 1.0, 1.0, 1.0, 1.0, 1.0, 1.0, 1.0, 1.0, 1.0, 1.0, 1.0, 1.0, 1.0, 1.0, 1.0, 1.0, 1.0, 1.0, 1.0, 0.0, 1.0, 1.0, 1.0, "
          ],
          "name": "stdout"
        },
        {
          "output_type": "stream",
          "text": [
            "/usr/local/lib/python3.6/dist-packages/seaborn/_decorators.py:43: FutureWarning: Pass the following variable as a keyword arg: x. From version 0.12, the only valid positional argument will be `data`, and passing other arguments without an explicit keyword will result in an error or misinterpretation.\n",
            "  FutureWarning\n"
          ],
          "name": "stderr"
        },
        {
          "output_type": "execute_result",
          "data": {
            "text/plain": [
              "Text(0.5, 1.0, 'Prediction Strength - Top 1000 Genes')"
            ]
          },
          "metadata": {
            "tags": []
          },
          "execution_count": 25
        },
        {
          "output_type": "display_data",
          "data": {
            "image/png": "[encoded data removed]",
            "text/plain": [
              "<Figure size 432x288 with 2 Axes>"
            ]
          },
          "metadata": {
            "tags": []
          }
        },
        {
          "output_type": "display_data",
          "data": {
            "image/png": "[encoded data removed]",
            "text/plain": [
              "<Figure size 600x300 with 1 Axes>"
            ]
          },
          "metadata": {
            "tags": []
          }
        }
      ]
    },
    {
      "cell_type": "markdown",
      "metadata": {
        "id": "_2ZldQXrn6A1"
      },
      "source": [
        "## 4.\tCluster the data using any method you like (K-Means, Hierarchical). What are the defining features of the clusters?"
      ]
    },
    {
      "cell_type": "markdown",
      "metadata": {
        "id": "7NUfyajupzG8"
      },
      "source": [
        "Another package"
      ]
    },
    {
      "cell_type": "code",
      "metadata": {
        "id": "_HIWw7D-n8SM"
      },
      "source": [
        "from sklearn.cluster import KMeans, AgglomerativeClustering"
      ],
      "execution_count": 26,
      "outputs": []
    },
    {
      "cell_type": "markdown",
      "metadata": {
        "id": "r-af7359qi3q"
      },
      "source": [
        "Use full train data and merge with metadata"
      ]
    },
    {
      "cell_type": "code",
      "metadata": {
        "id": "Yx-oNv9Pqyis"
      },
      "source": [
        "train_z_tr = train_z.transpose()\n",
        "\n",
        "train_clust = train_z_tr.merge(meta_train, left_index=True, right_index=True).rename(columns={\"ALL/AML\": \"label\"})\n",
        "# test_merge = test_tr.merge(meta_test, left_index=True, right_index=True)\n",
        "\n",
        "train_clust['label'] = train_labeled['label'].astype('category')\n",
        "train_clust['label_codes'] = train_labeled['label'].cat.codes"
      ],
      "execution_count": 27,
      "outputs": []
    },
    {
      "cell_type": "markdown",
      "metadata": {
        "id": "wR6YGAIL3BPx"
      },
      "source": [
        "Separate expression levels (features) and labels (ALL vs AML)"
      ]
    },
    {
      "cell_type": "code",
      "metadata": {
        "id": "Bys_bDVX3LPg",
        "outputId": "a938a662-f356-4ff1-ca1d-25f3eac3ded9",
        "colab": {
          "base_uri": "https://localhost:8080/",
          "height": 50
        }
      },
      "source": [
        "features = train_clust.drop(\n",
        "    columns=['label', 'label_codes', 'BM/PB', 'T/B-cell', 'FAB', 'Date/Gender', '% Blasts', 'Treatment Response', 'PS', 'Source']).values\n",
        "labels = train_clust['label_codes'].values\n",
        "print('features:', features.shape)\n",
        "print('labels:', labels.shape)"
      ],
      "execution_count": 28,
      "outputs": [
        {
          "output_type": "stream",
          "text": [
            "features: (38, 7129)\n",
            "labels: (38,)\n"
          ],
          "name": "stdout"
        }
      ]
    },
    {
      "cell_type": "markdown",
      "metadata": {
        "id": "xbVqlNJJ3-O9"
      },
      "source": [
        "K-means clustering: 2 clusters"
      ]
    },
    {
      "cell_type": "code",
      "metadata": {
        "id": "Utm1hL7n3-qh",
        "outputId": "3bd885d8-8890-4d56-8196-acf13ddc7a7f",
        "colab": {
          "base_uri": "https://localhost:8080/",
          "height": 84
        }
      },
      "source": [
        "kmeans = KMeans(n_clusters=2, random_state=123454321).fit(features)\n",
        "\n",
        "train_clust['k_labels'] = kmeans.labels_\n",
        "\n",
        "print('K Clustering Labels:\\t', kmeans.labels_)\n",
        "print('Actual Labels:\\t\\t', labels)"
      ],
      "execution_count": 29,
      "outputs": [
        {
          "output_type": "stream",
          "text": [
            "K Clustering Labels:\t [0 0 0 0 0 0 0 0 0 0 0 0 0 0 0 0 0 0 0 0 0 0 0 0 1 0 0 1 0 1 0 1 1 0 0 1 1\n",
            " 1]\n",
            "Actual Labels:\t\t [0 0 0 0 0 0 0 0 0 0 0 0 0 0 0 0 0 0 0 0 0 0 0 0 0 0 0 1 1 1 1 1 1 1 1 1 1\n",
            " 1]\n"
          ],
          "name": "stdout"
        }
      ]
    },
    {
      "cell_type": "markdown",
      "metadata": {
        "id": "6mAwvk6g4kfC"
      },
      "source": [
        "Hierarchical Clustering (Agglomerative)"
      ]
    },
    {
      "cell_type": "code",
      "metadata": {
        "id": "ZPKCoDC-4qIn",
        "outputId": "b5bf5d5b-2f28-42fe-e406-9225a78b2fd4",
        "colab": {
          "base_uri": "https://localhost:8080/",
          "height": 84
        }
      },
      "source": [
        "clustering = AgglomerativeClustering(n_clusters=4).fit(features)\n",
        "\n",
        "train_clust['h_labels'] = clustering.labels_\n",
        "\n",
        "print('Clustering Labels:\\t', clustering.labels_)\n",
        "print('Actual Labels:\\t\\t', labels)"
      ],
      "execution_count": 30,
      "outputs": [
        {
          "output_type": "stream",
          "text": [
            "Clustering Labels:\t [0 0 1 0 0 1 3 3 1 1 1 2 0 0 0 0 0 0 0 0 0 3 1 0 2 0 3 2 2 2 2 2 2 2 3 2 2\n",
            " 2]\n",
            "Actual Labels:\t\t [0 0 0 0 0 0 0 0 0 0 0 0 0 0 0 0 0 0 0 0 0 0 0 0 0 0 0 1 1 1 1 1 1 1 1 1 1\n",
            " 1]\n"
          ],
          "name": "stdout"
        }
      ]
    },
    {
      "cell_type": "markdown",
      "metadata": {
        "id": "rtCTC4JE5n8K"
      },
      "source": [
        "Inspect train data sorted by clusters"
      ]
    },
    {
      "cell_type": "code",
      "metadata": {
        "id": "E6BPvmPO5vjz",
        "outputId": "86171901-dc6a-462d-c491-ddfc84b59cbe",
        "colab": {
          "base_uri": "https://localhost:8080/",
          "height": 1000
        }
      },
      "source": [
        "train_clust_meta = train_clust[['label', 'label_codes', 'k_labels', 'h_labels', 'BM/PB', 'T/B-cell', 'FAB', 'Date/Gender', '% Blasts', 'Treatment Response', 'PS', 'Source']]\n",
        "train_clust_meta.sort_values('k_labels')"
      ],
      "execution_count": 31,
      "outputs": [
        {
          "output_type": "execute_result",
          "data": {
            "text/html": [
              "<div>\n",
              "<style scoped>\n",
              "    .dataframe tbody tr th:only-of-type {\n",
              "        vertical-align: middle;\n",
              "    }\n",
              "\n",
              "    .dataframe tbody tr th {\n",
              "        vertical-align: top;\n",
              "    }\n",
              "\n",
              "    .dataframe thead th {\n",
              "        text-align: right;\n",
              "    }\n",
              "</style>\n",
              "<table border=\"1\" class=\"dataframe\">\n",
              "  <thead>\n",
              "    <tr style=\"text-align: right;\">\n",
              "      <th></th>\n",
              "      <th>label</th>\n",
              "      <th>label_codes</th>\n",
              "      <th>k_labels</th>\n",
              "      <th>h_labels</th>\n",
              "      <th>BM/PB</th>\n",
              "      <th>T/B-cell</th>\n",
              "      <th>FAB</th>\n",
              "      <th>Date/Gender</th>\n",
              "      <th>% Blasts</th>\n",
              "      <th>Treatment Response</th>\n",
              "      <th>PS</th>\n",
              "      <th>Source</th>\n",
              "    </tr>\n",
              "  </thead>\n",
              "  <tbody>\n",
              "    <tr>\n",
              "      <th>1</th>\n",
              "      <td>ALL</td>\n",
              "      <td>0</td>\n",
              "      <td>0</td>\n",
              "      <td>0</td>\n",
              "      <td>BM</td>\n",
              "      <td>B-cell</td>\n",
              "      <td>NaN</td>\n",
              "      <td>09/04/96 - M</td>\n",
              "      <td>NaN</td>\n",
              "      <td>NaN</td>\n",
              "      <td>1.00</td>\n",
              "      <td>DFCI</td>\n",
              "    </tr>\n",
              "    <tr>\n",
              "      <th>35</th>\n",
              "      <td>AML</td>\n",
              "      <td>1</td>\n",
              "      <td>0</td>\n",
              "      <td>3</td>\n",
              "      <td>BM</td>\n",
              "      <td>NaN</td>\n",
              "      <td>M1</td>\n",
              "      <td>NaN</td>\n",
              "      <td>67.0</td>\n",
              "      <td>Success</td>\n",
              "      <td>0.21</td>\n",
              "      <td>CALGB</td>\n",
              "    </tr>\n",
              "    <tr>\n",
              "      <th>34</th>\n",
              "      <td>AML</td>\n",
              "      <td>1</td>\n",
              "      <td>0</td>\n",
              "      <td>2</td>\n",
              "      <td>BM</td>\n",
              "      <td>NaN</td>\n",
              "      <td>M2</td>\n",
              "      <td>NaN</td>\n",
              "      <td>77.0</td>\n",
              "      <td>Success</td>\n",
              "      <td>0.64</td>\n",
              "      <td>CALGB</td>\n",
              "    </tr>\n",
              "    <tr>\n",
              "      <th>31</th>\n",
              "      <td>AML</td>\n",
              "      <td>1</td>\n",
              "      <td>0</td>\n",
              "      <td>2</td>\n",
              "      <td>BM</td>\n",
              "      <td>NaN</td>\n",
              "      <td>M4</td>\n",
              "      <td>NaN</td>\n",
              "      <td>77.0</td>\n",
              "      <td>Failure</td>\n",
              "      <td>0.61</td>\n",
              "      <td>CALGB</td>\n",
              "    </tr>\n",
              "    <tr>\n",
              "      <th>29</th>\n",
              "      <td>AML</td>\n",
              "      <td>1</td>\n",
              "      <td>0</td>\n",
              "      <td>2</td>\n",
              "      <td>BM</td>\n",
              "      <td>NaN</td>\n",
              "      <td>M2</td>\n",
              "      <td>NaN</td>\n",
              "      <td>34.0</td>\n",
              "      <td>Failure</td>\n",
              "      <td>0.74</td>\n",
              "      <td>CALGB</td>\n",
              "    </tr>\n",
              "    <tr>\n",
              "      <th>27</th>\n",
              "      <td>ALL</td>\n",
              "      <td>0</td>\n",
              "      <td>0</td>\n",
              "      <td>3</td>\n",
              "      <td>BM</td>\n",
              "      <td>B-cell</td>\n",
              "      <td>NaN</td>\n",
              "      <td>- F</td>\n",
              "      <td>NaN</td>\n",
              "      <td>NaN</td>\n",
              "      <td>0.82</td>\n",
              "      <td>DFCI</td>\n",
              "    </tr>\n",
              "    <tr>\n",
              "      <th>26</th>\n",
              "      <td>ALL</td>\n",
              "      <td>0</td>\n",
              "      <td>0</td>\n",
              "      <td>0</td>\n",
              "      <td>BM</td>\n",
              "      <td>B-cell</td>\n",
              "      <td>NaN</td>\n",
              "      <td>- F</td>\n",
              "      <td>NaN</td>\n",
              "      <td>NaN</td>\n",
              "      <td>0.89</td>\n",
              "      <td>DFCI</td>\n",
              "    </tr>\n",
              "    <tr>\n",
              "      <th>24</th>\n",
              "      <td>ALL</td>\n",
              "      <td>0</td>\n",
              "      <td>0</td>\n",
              "      <td>0</td>\n",
              "      <td>BM</td>\n",
              "      <td>B-cell</td>\n",
              "      <td>NaN</td>\n",
              "      <td>05/19/81 - M</td>\n",
              "      <td>NaN</td>\n",
              "      <td>NaN</td>\n",
              "      <td>0.92</td>\n",
              "      <td>DFCI</td>\n",
              "    </tr>\n",
              "    <tr>\n",
              "      <th>23</th>\n",
              "      <td>ALL</td>\n",
              "      <td>0</td>\n",
              "      <td>0</td>\n",
              "      <td>1</td>\n",
              "      <td>BM</td>\n",
              "      <td>T-cell</td>\n",
              "      <td>NaN</td>\n",
              "      <td>07/09/91 - M</td>\n",
              "      <td>NaN</td>\n",
              "      <td>NaN</td>\n",
              "      <td>0.77</td>\n",
              "      <td>DFCI</td>\n",
              "    </tr>\n",
              "    <tr>\n",
              "      <th>22</th>\n",
              "      <td>ALL</td>\n",
              "      <td>0</td>\n",
              "      <td>0</td>\n",
              "      <td>3</td>\n",
              "      <td>BM</td>\n",
              "      <td>B-cell</td>\n",
              "      <td>NaN</td>\n",
              "      <td>05/27/88 - M</td>\n",
              "      <td>NaN</td>\n",
              "      <td>NaN</td>\n",
              "      <td>0.37</td>\n",
              "      <td>DFCI</td>\n",
              "    </tr>\n",
              "    <tr>\n",
              "      <th>21</th>\n",
              "      <td>ALL</td>\n",
              "      <td>0</td>\n",
              "      <td>0</td>\n",
              "      <td>0</td>\n",
              "      <td>BM</td>\n",
              "      <td>B-cell</td>\n",
              "      <td>NaN</td>\n",
              "      <td>01/24/84 - M</td>\n",
              "      <td>NaN</td>\n",
              "      <td>NaN</td>\n",
              "      <td>0.76</td>\n",
              "      <td>DFCI</td>\n",
              "    </tr>\n",
              "    <tr>\n",
              "      <th>20</th>\n",
              "      <td>ALL</td>\n",
              "      <td>0</td>\n",
              "      <td>0</td>\n",
              "      <td>0</td>\n",
              "      <td>BM</td>\n",
              "      <td>B-cell</td>\n",
              "      <td>NaN</td>\n",
              "      <td>NaN</td>\n",
              "      <td>NaN</td>\n",
              "      <td>NaN</td>\n",
              "      <td>0.90</td>\n",
              "      <td>DFCI</td>\n",
              "    </tr>\n",
              "    <tr>\n",
              "      <th>18</th>\n",
              "      <td>ALL</td>\n",
              "      <td>0</td>\n",
              "      <td>0</td>\n",
              "      <td>0</td>\n",
              "      <td>BM</td>\n",
              "      <td>B-cell</td>\n",
              "      <td>NaN</td>\n",
              "      <td>- F</td>\n",
              "      <td>NaN</td>\n",
              "      <td>NaN</td>\n",
              "      <td>0.59</td>\n",
              "      <td>DFCI</td>\n",
              "    </tr>\n",
              "    <tr>\n",
              "      <th>17</th>\n",
              "      <td>ALL</td>\n",
              "      <td>0</td>\n",
              "      <td>0</td>\n",
              "      <td>0</td>\n",
              "      <td>BM</td>\n",
              "      <td>B-cell</td>\n",
              "      <td>NaN</td>\n",
              "      <td>09/26/90 - M</td>\n",
              "      <td>NaN</td>\n",
              "      <td>NaN</td>\n",
              "      <td>0.49</td>\n",
              "      <td>DFCI</td>\n",
              "    </tr>\n",
              "    <tr>\n",
              "      <th>16</th>\n",
              "      <td>ALL</td>\n",
              "      <td>0</td>\n",
              "      <td>0</td>\n",
              "      <td>0</td>\n",
              "      <td>BM</td>\n",
              "      <td>B-cell</td>\n",
              "      <td>NaN</td>\n",
              "      <td>02/12/90 - M</td>\n",
              "      <td>NaN</td>\n",
              "      <td>NaN</td>\n",
              "      <td>0.95</td>\n",
              "      <td>DFCI</td>\n",
              "    </tr>\n",
              "    <tr>\n",
              "      <th>19</th>\n",
              "      <td>ALL</td>\n",
              "      <td>0</td>\n",
              "      <td>0</td>\n",
              "      <td>0</td>\n",
              "      <td>BM</td>\n",
              "      <td>B-cell</td>\n",
              "      <td>NaN</td>\n",
              "      <td>NaN</td>\n",
              "      <td>NaN</td>\n",
              "      <td>NaN</td>\n",
              "      <td>0.80</td>\n",
              "      <td>DFCI</td>\n",
              "    </tr>\n",
              "    <tr>\n",
              "      <th>14</th>\n",
              "      <td>ALL</td>\n",
              "      <td>0</td>\n",
              "      <td>0</td>\n",
              "      <td>0</td>\n",
              "      <td>BM</td>\n",
              "      <td>T-cell</td>\n",
              "      <td>NaN</td>\n",
              "      <td>11/27/87 - M</td>\n",
              "      <td>NaN</td>\n",
              "      <td>NaN</td>\n",
              "      <td>0.73</td>\n",
              "      <td>DFCI</td>\n",
              "    </tr>\n",
              "    <tr>\n",
              "      <th>2</th>\n",
              "      <td>ALL</td>\n",
              "      <td>0</td>\n",
              "      <td>0</td>\n",
              "      <td>0</td>\n",
              "      <td>BM</td>\n",
              "      <td>T-cell</td>\n",
              "      <td>NaN</td>\n",
              "      <td>- M</td>\n",
              "      <td>NaN</td>\n",
              "      <td>NaN</td>\n",
              "      <td>0.41</td>\n",
              "      <td>DFCI</td>\n",
              "    </tr>\n",
              "    <tr>\n",
              "      <th>3</th>\n",
              "      <td>ALL</td>\n",
              "      <td>0</td>\n",
              "      <td>0</td>\n",
              "      <td>1</td>\n",
              "      <td>BM</td>\n",
              "      <td>T-cell</td>\n",
              "      <td>NaN</td>\n",
              "      <td>- M</td>\n",
              "      <td>NaN</td>\n",
              "      <td>NaN</td>\n",
              "      <td>0.87</td>\n",
              "      <td>DFCI</td>\n",
              "    </tr>\n",
              "    <tr>\n",
              "      <th>4</th>\n",
              "      <td>ALL</td>\n",
              "      <td>0</td>\n",
              "      <td>0</td>\n",
              "      <td>0</td>\n",
              "      <td>BM</td>\n",
              "      <td>B-cell</td>\n",
              "      <td>NaN</td>\n",
              "      <td>NaN</td>\n",
              "      <td>NaN</td>\n",
              "      <td>NaN</td>\n",
              "      <td>0.91</td>\n",
              "      <td>DFCI</td>\n",
              "    </tr>\n",
              "    <tr>\n",
              "      <th>5</th>\n",
              "      <td>ALL</td>\n",
              "      <td>0</td>\n",
              "      <td>0</td>\n",
              "      <td>0</td>\n",
              "      <td>BM</td>\n",
              "      <td>B-cell</td>\n",
              "      <td>NaN</td>\n",
              "      <td>NaN</td>\n",
              "      <td>NaN</td>\n",
              "      <td>NaN</td>\n",
              "      <td>0.89</td>\n",
              "      <td>DFCI</td>\n",
              "    </tr>\n",
              "    <tr>\n",
              "      <th>15</th>\n",
              "      <td>ALL</td>\n",
              "      <td>0</td>\n",
              "      <td>0</td>\n",
              "      <td>0</td>\n",
              "      <td>BM</td>\n",
              "      <td>B-cell</td>\n",
              "      <td>NaN</td>\n",
              "      <td>03/25/89 - F</td>\n",
              "      <td>NaN</td>\n",
              "      <td>NaN</td>\n",
              "      <td>0.98</td>\n",
              "      <td>DFCI</td>\n",
              "    </tr>\n",
              "    <tr>\n",
              "      <th>7</th>\n",
              "      <td>ALL</td>\n",
              "      <td>0</td>\n",
              "      <td>0</td>\n",
              "      <td>3</td>\n",
              "      <td>BM</td>\n",
              "      <td>B-cell</td>\n",
              "      <td>NaN</td>\n",
              "      <td>03/25/83 - F</td>\n",
              "      <td>NaN</td>\n",
              "      <td>NaN</td>\n",
              "      <td>0.78</td>\n",
              "      <td>DFCI</td>\n",
              "    </tr>\n",
              "    <tr>\n",
              "      <th>6</th>\n",
              "      <td>ALL</td>\n",
              "      <td>0</td>\n",
              "      <td>0</td>\n",
              "      <td>1</td>\n",
              "      <td>BM</td>\n",
              "      <td>T-cell</td>\n",
              "      <td>NaN</td>\n",
              "      <td>- M</td>\n",
              "      <td>NaN</td>\n",
              "      <td>NaN</td>\n",
              "      <td>0.76</td>\n",
              "      <td>DFCI</td>\n",
              "    </tr>\n",
              "    <tr>\n",
              "      <th>9</th>\n",
              "      <td>ALL</td>\n",
              "      <td>0</td>\n",
              "      <td>0</td>\n",
              "      <td>1</td>\n",
              "      <td>BM</td>\n",
              "      <td>T-cell</td>\n",
              "      <td>NaN</td>\n",
              "      <td>- M</td>\n",
              "      <td>NaN</td>\n",
              "      <td>NaN</td>\n",
              "      <td>0.89</td>\n",
              "      <td>DFCI</td>\n",
              "    </tr>\n",
              "    <tr>\n",
              "      <th>10</th>\n",
              "      <td>ALL</td>\n",
              "      <td>0</td>\n",
              "      <td>0</td>\n",
              "      <td>1</td>\n",
              "      <td>BM</td>\n",
              "      <td>T-cell</td>\n",
              "      <td>NaN</td>\n",
              "      <td>07/23/87 - M</td>\n",
              "      <td>NaN</td>\n",
              "      <td>NaN</td>\n",
              "      <td>0.56</td>\n",
              "      <td>DFCI</td>\n",
              "    </tr>\n",
              "    <tr>\n",
              "      <th>11</th>\n",
              "      <td>ALL</td>\n",
              "      <td>0</td>\n",
              "      <td>0</td>\n",
              "      <td>1</td>\n",
              "      <td>BM</td>\n",
              "      <td>T-cell</td>\n",
              "      <td>NaN</td>\n",
              "      <td>06/25/85 - M</td>\n",
              "      <td>NaN</td>\n",
              "      <td>NaN</td>\n",
              "      <td>0.74</td>\n",
              "      <td>DFCI</td>\n",
              "    </tr>\n",
              "    <tr>\n",
              "      <th>12</th>\n",
              "      <td>ALL</td>\n",
              "      <td>0</td>\n",
              "      <td>0</td>\n",
              "      <td>2</td>\n",
              "      <td>BM</td>\n",
              "      <td>B-cell</td>\n",
              "      <td>NaN</td>\n",
              "      <td>09/17/85 - F</td>\n",
              "      <td>NaN</td>\n",
              "      <td>NaN</td>\n",
              "      <td>0.20</td>\n",
              "      <td>DFCI</td>\n",
              "    </tr>\n",
              "    <tr>\n",
              "      <th>13</th>\n",
              "      <td>ALL</td>\n",
              "      <td>0</td>\n",
              "      <td>0</td>\n",
              "      <td>0</td>\n",
              "      <td>BM</td>\n",
              "      <td>B-cell</td>\n",
              "      <td>NaN</td>\n",
              "      <td>07/27/88 - F</td>\n",
              "      <td>NaN</td>\n",
              "      <td>NaN</td>\n",
              "      <td>1.00</td>\n",
              "      <td>DFCI</td>\n",
              "    </tr>\n",
              "    <tr>\n",
              "      <th>8</th>\n",
              "      <td>ALL</td>\n",
              "      <td>0</td>\n",
              "      <td>0</td>\n",
              "      <td>3</td>\n",
              "      <td>BM</td>\n",
              "      <td>B-cell</td>\n",
              "      <td>NaN</td>\n",
              "      <td>- F</td>\n",
              "      <td>NaN</td>\n",
              "      <td>NaN</td>\n",
              "      <td>0.77</td>\n",
              "      <td>DFCI</td>\n",
              "    </tr>\n",
              "    <tr>\n",
              "      <th>25</th>\n",
              "      <td>ALL</td>\n",
              "      <td>0</td>\n",
              "      <td>1</td>\n",
              "      <td>2</td>\n",
              "      <td>BM</td>\n",
              "      <td>B-cell</td>\n",
              "      <td>NaN</td>\n",
              "      <td>02/18/82 - M</td>\n",
              "      <td>NaN</td>\n",
              "      <td>NaN</td>\n",
              "      <td>0.43</td>\n",
              "      <td>DFCI</td>\n",
              "    </tr>\n",
              "    <tr>\n",
              "      <th>28</th>\n",
              "      <td>AML</td>\n",
              "      <td>1</td>\n",
              "      <td>1</td>\n",
              "      <td>2</td>\n",
              "      <td>BM</td>\n",
              "      <td>NaN</td>\n",
              "      <td>M2</td>\n",
              "      <td>NaN</td>\n",
              "      <td>79.0</td>\n",
              "      <td>Failure</td>\n",
              "      <td>0.44</td>\n",
              "      <td>CALGB</td>\n",
              "    </tr>\n",
              "    <tr>\n",
              "      <th>30</th>\n",
              "      <td>AML</td>\n",
              "      <td>1</td>\n",
              "      <td>1</td>\n",
              "      <td>2</td>\n",
              "      <td>BM</td>\n",
              "      <td>NaN</td>\n",
              "      <td>M5</td>\n",
              "      <td>NaN</td>\n",
              "      <td>93.0</td>\n",
              "      <td>Failure</td>\n",
              "      <td>0.80</td>\n",
              "      <td>CALGB</td>\n",
              "    </tr>\n",
              "    <tr>\n",
              "      <th>32</th>\n",
              "      <td>AML</td>\n",
              "      <td>1</td>\n",
              "      <td>1</td>\n",
              "      <td>2</td>\n",
              "      <td>BM</td>\n",
              "      <td>NaN</td>\n",
              "      <td>M1</td>\n",
              "      <td>NaN</td>\n",
              "      <td>86.0</td>\n",
              "      <td>Failure</td>\n",
              "      <td>0.47</td>\n",
              "      <td>CALGB</td>\n",
              "    </tr>\n",
              "    <tr>\n",
              "      <th>33</th>\n",
              "      <td>AML</td>\n",
              "      <td>1</td>\n",
              "      <td>1</td>\n",
              "      <td>2</td>\n",
              "      <td>BM</td>\n",
              "      <td>NaN</td>\n",
              "      <td>M2</td>\n",
              "      <td>NaN</td>\n",
              "      <td>70.0</td>\n",
              "      <td>Failure</td>\n",
              "      <td>0.89</td>\n",
              "      <td>CALGB</td>\n",
              "    </tr>\n",
              "    <tr>\n",
              "      <th>37</th>\n",
              "      <td>AML</td>\n",
              "      <td>1</td>\n",
              "      <td>1</td>\n",
              "      <td>2</td>\n",
              "      <td>BM</td>\n",
              "      <td>NaN</td>\n",
              "      <td>M2</td>\n",
              "      <td>NaN</td>\n",
              "      <td>44.0</td>\n",
              "      <td>Success</td>\n",
              "      <td>0.95</td>\n",
              "      <td>CALGB</td>\n",
              "    </tr>\n",
              "    <tr>\n",
              "      <th>36</th>\n",
              "      <td>AML</td>\n",
              "      <td>1</td>\n",
              "      <td>1</td>\n",
              "      <td>2</td>\n",
              "      <td>BM</td>\n",
              "      <td>NaN</td>\n",
              "      <td>M5</td>\n",
              "      <td>NaN</td>\n",
              "      <td>76.0</td>\n",
              "      <td>Success</td>\n",
              "      <td>0.94</td>\n",
              "      <td>CALGB</td>\n",
              "    </tr>\n",
              "    <tr>\n",
              "      <th>38</th>\n",
              "      <td>AML</td>\n",
              "      <td>1</td>\n",
              "      <td>1</td>\n",
              "      <td>2</td>\n",
              "      <td>BM</td>\n",
              "      <td>NaN</td>\n",
              "      <td>M1</td>\n",
              "      <td>NaN</td>\n",
              "      <td>80.0</td>\n",
              "      <td>Success</td>\n",
              "      <td>0.73</td>\n",
              "      <td>CALGB</td>\n",
              "    </tr>\n",
              "  </tbody>\n",
              "</table>\n",
              "</div>"
            ],
            "text/plain": [
              "   label  label_codes  k_labels  ...  Treatment Response    PS Source\n",
              "1    ALL            0         0  ...                 NaN  1.00   DFCI\n",
              "35   AML            1         0  ...             Success  0.21  CALGB\n",
              "34   AML            1         0  ...             Success  0.64  CALGB\n",
              "31   AML            1         0  ...             Failure  0.61  CALGB\n",
              "29   AML            1         0  ...             Failure  0.74  CALGB\n",
              "27   ALL            0         0  ...                 NaN  0.82   DFCI\n",
              "26   ALL            0         0  ...                 NaN  0.89   DFCI\n",
              "24   ALL            0         0  ...                 NaN  0.92   DFCI\n",
              "23   ALL            0         0  ...                 NaN  0.77   DFCI\n",
              "22   ALL            0         0  ...                 NaN  0.37   DFCI\n",
              "21   ALL            0         0  ...                 NaN  0.76   DFCI\n",
              "20   ALL            0         0  ...                 NaN  0.90   DFCI\n",
              "18   ALL            0         0  ...                 NaN  0.59   DFCI\n",
              "17   ALL            0         0  ...                 NaN  0.49   DFCI\n",
              "16   ALL            0         0  ...                 NaN  0.95   DFCI\n",
              "19   ALL            0         0  ...                 NaN  0.80   DFCI\n",
              "14   ALL            0         0  ...                 NaN  0.73   DFCI\n",
              "2    ALL            0         0  ...                 NaN  0.41   DFCI\n",
              "3    ALL            0         0  ...                 NaN  0.87   DFCI\n",
              "4    ALL            0         0  ...                 NaN  0.91   DFCI\n",
              "5    ALL            0         0  ...                 NaN  0.89   DFCI\n",
              "15   ALL            0         0  ...                 NaN  0.98   DFCI\n",
              "7    ALL            0         0  ...                 NaN  0.78   DFCI\n",
              "6    ALL            0         0  ...                 NaN  0.76   DFCI\n",
              "9    ALL            0         0  ...                 NaN  0.89   DFCI\n",
              "10   ALL            0         0  ...                 NaN  0.56   DFCI\n",
              "11   ALL            0         0  ...                 NaN  0.74   DFCI\n",
              "12   ALL            0         0  ...                 NaN  0.20   DFCI\n",
              "13   ALL            0         0  ...                 NaN  1.00   DFCI\n",
              "8    ALL            0         0  ...                 NaN  0.77   DFCI\n",
              "25   ALL            0         1  ...                 NaN  0.43   DFCI\n",
              "28   AML            1         1  ...             Failure  0.44  CALGB\n",
              "30   AML            1         1  ...             Failure  0.80  CALGB\n",
              "32   AML            1         1  ...             Failure  0.47  CALGB\n",
              "33   AML            1         1  ...             Failure  0.89  CALGB\n",
              "37   AML            1         1  ...             Success  0.95  CALGB\n",
              "36   AML            1         1  ...             Success  0.94  CALGB\n",
              "38   AML            1         1  ...             Success  0.73  CALGB\n",
              "\n",
              "[38 rows x 12 columns]"
            ]
          },
          "metadata": {
            "tags": []
          },
          "execution_count": 31
        }
      ]
    },
    {
      "cell_type": "markdown",
      "metadata": {
        "id": "can_YIvO1aTS"
      },
      "source": [
        "Try with 3 clusters"
      ]
    },
    {
      "cell_type": "code",
      "metadata": {
        "id": "SZh8nqLm1NT3",
        "outputId": "48840c9b-c302-4823-b778-71511d4ab0d4",
        "colab": {
          "base_uri": "https://localhost:8080/",
          "height": 1000
        }
      },
      "source": [
        "# Testing k-means and hierarchical with n = 3 clusters. Seems to better distinguish between subgroups (AML, ALL (T-Cell), ALL (B-Cell)).\n",
        "kmeans_3 = KMeans(n_clusters=3, random_state=123454321).fit(features)\n",
        "train_clust['kmns_3_labels'] = kmeans_3.labels_\n",
        "clustering_3 = AgglomerativeClustering(n_clusters=3).fit(features)\n",
        "train_clust['h_3_labels'] = clustering_3.labels_\n",
        "print('K Clustering Labels:\\t', kmeans_3.labels_)\n",
        "print('Agg Clustering Labels:\\t', clustering_3.labels_)\n",
        "print('Actual Labels:\\t\\t', labels)\n",
        "train_clust_meta = train_clust[['label', 'label_codes', 'kmns_3_labels', 'h_3_labels', 'BM/PB', 'T/B-cell', 'FAB', 'Date/Gender', '% Blasts', 'Treatment Response', 'PS', 'Source']]\n",
        "train_clust_meta.sort_values('label_codes')"
      ],
      "execution_count": 34,
      "outputs": [
        {
          "output_type": "stream",
          "text": [
            "K Clustering Labels:\t [2 0 0 2 2 0 2 2 0 0 0 2 2 0 2 2 2 2 2 2 2 2 0 2 2 2 2 1 2 1 1 1 1 1 2 1 1\n",
            " 1]\n",
            "Agg Clustering Labels:\t [0 0 1 0 0 1 0 0 1 1 1 2 0 0 0 0 0 0 0 0 0 0 1 0 2 0 0 2 2 2 2 2 2 2 0 2 2\n",
            " 2]\n",
            "Actual Labels:\t\t [0 0 0 0 0 0 0 0 0 0 0 0 0 0 0 0 0 0 0 0 0 0 0 0 0 0 0 1 1 1 1 1 1 1 1 1 1\n",
            " 1]\n"
          ],
          "name": "stdout"
        },
        {
          "output_type": "execute_result",
          "data": {
            "text/html": [
              "<div>\n",
              "<style scoped>\n",
              "    .dataframe tbody tr th:only-of-type {\n",
              "        vertical-align: middle;\n",
              "    }\n",
              "\n",
              "    .dataframe tbody tr th {\n",
              "        vertical-align: top;\n",
              "    }\n",
              "\n",
              "    .dataframe thead th {\n",
              "        text-align: right;\n",
              "    }\n",
              "</style>\n",
              "<table border=\"1\" class=\"dataframe\">\n",
              "  <thead>\n",
              "    <tr style=\"text-align: right;\">\n",
              "      <th></th>\n",
              "      <th>label</th>\n",
              "      <th>label_codes</th>\n",
              "      <th>kmns_3_labels</th>\n",
              "      <th>h_3_labels</th>\n",
              "      <th>BM/PB</th>\n",
              "      <th>T/B-cell</th>\n",
              "      <th>FAB</th>\n",
              "      <th>Date/Gender</th>\n",
              "      <th>% Blasts</th>\n",
              "      <th>Treatment Response</th>\n",
              "      <th>PS</th>\n",
              "      <th>Source</th>\n",
              "    </tr>\n",
              "  </thead>\n",
              "  <tbody>\n",
              "    <tr>\n",
              "      <th>1</th>\n",
              "      <td>ALL</td>\n",
              "      <td>0</td>\n",
              "      <td>2</td>\n",
              "      <td>0</td>\n",
              "      <td>BM</td>\n",
              "      <td>B-cell</td>\n",
              "      <td>NaN</td>\n",
              "      <td>09/04/96 - M</td>\n",
              "      <td>NaN</td>\n",
              "      <td>NaN</td>\n",
              "      <td>1.00</td>\n",
              "      <td>DFCI</td>\n",
              "    </tr>\n",
              "    <tr>\n",
              "      <th>27</th>\n",
              "      <td>ALL</td>\n",
              "      <td>0</td>\n",
              "      <td>2</td>\n",
              "      <td>0</td>\n",
              "      <td>BM</td>\n",
              "      <td>B-cell</td>\n",
              "      <td>NaN</td>\n",
              "      <td>- F</td>\n",
              "      <td>NaN</td>\n",
              "      <td>NaN</td>\n",
              "      <td>0.82</td>\n",
              "      <td>DFCI</td>\n",
              "    </tr>\n",
              "    <tr>\n",
              "      <th>26</th>\n",
              "      <td>ALL</td>\n",
              "      <td>0</td>\n",
              "      <td>2</td>\n",
              "      <td>0</td>\n",
              "      <td>BM</td>\n",
              "      <td>B-cell</td>\n",
              "      <td>NaN</td>\n",
              "      <td>- F</td>\n",
              "      <td>NaN</td>\n",
              "      <td>NaN</td>\n",
              "      <td>0.89</td>\n",
              "      <td>DFCI</td>\n",
              "    </tr>\n",
              "    <tr>\n",
              "      <th>25</th>\n",
              "      <td>ALL</td>\n",
              "      <td>0</td>\n",
              "      <td>2</td>\n",
              "      <td>2</td>\n",
              "      <td>BM</td>\n",
              "      <td>B-cell</td>\n",
              "      <td>NaN</td>\n",
              "      <td>02/18/82 - M</td>\n",
              "      <td>NaN</td>\n",
              "      <td>NaN</td>\n",
              "      <td>0.43</td>\n",
              "      <td>DFCI</td>\n",
              "    </tr>\n",
              "    <tr>\n",
              "      <th>24</th>\n",
              "      <td>ALL</td>\n",
              "      <td>0</td>\n",
              "      <td>2</td>\n",
              "      <td>0</td>\n",
              "      <td>BM</td>\n",
              "      <td>B-cell</td>\n",
              "      <td>NaN</td>\n",
              "      <td>05/19/81 - M</td>\n",
              "      <td>NaN</td>\n",
              "      <td>NaN</td>\n",
              "      <td>0.92</td>\n",
              "      <td>DFCI</td>\n",
              "    </tr>\n",
              "    <tr>\n",
              "      <th>23</th>\n",
              "      <td>ALL</td>\n",
              "      <td>0</td>\n",
              "      <td>0</td>\n",
              "      <td>1</td>\n",
              "      <td>BM</td>\n",
              "      <td>T-cell</td>\n",
              "      <td>NaN</td>\n",
              "      <td>07/09/91 - M</td>\n",
              "      <td>NaN</td>\n",
              "      <td>NaN</td>\n",
              "      <td>0.77</td>\n",
              "      <td>DFCI</td>\n",
              "    </tr>\n",
              "    <tr>\n",
              "      <th>22</th>\n",
              "      <td>ALL</td>\n",
              "      <td>0</td>\n",
              "      <td>2</td>\n",
              "      <td>0</td>\n",
              "      <td>BM</td>\n",
              "      <td>B-cell</td>\n",
              "      <td>NaN</td>\n",
              "      <td>05/27/88 - M</td>\n",
              "      <td>NaN</td>\n",
              "      <td>NaN</td>\n",
              "      <td>0.37</td>\n",
              "      <td>DFCI</td>\n",
              "    </tr>\n",
              "    <tr>\n",
              "      <th>21</th>\n",
              "      <td>ALL</td>\n",
              "      <td>0</td>\n",
              "      <td>2</td>\n",
              "      <td>0</td>\n",
              "      <td>BM</td>\n",
              "      <td>B-cell</td>\n",
              "      <td>NaN</td>\n",
              "      <td>01/24/84 - M</td>\n",
              "      <td>NaN</td>\n",
              "      <td>NaN</td>\n",
              "      <td>0.76</td>\n",
              "      <td>DFCI</td>\n",
              "    </tr>\n",
              "    <tr>\n",
              "      <th>20</th>\n",
              "      <td>ALL</td>\n",
              "      <td>0</td>\n",
              "      <td>2</td>\n",
              "      <td>0</td>\n",
              "      <td>BM</td>\n",
              "      <td>B-cell</td>\n",
              "      <td>NaN</td>\n",
              "      <td>NaN</td>\n",
              "      <td>NaN</td>\n",
              "      <td>NaN</td>\n",
              "      <td>0.90</td>\n",
              "      <td>DFCI</td>\n",
              "    </tr>\n",
              "    <tr>\n",
              "      <th>18</th>\n",
              "      <td>ALL</td>\n",
              "      <td>0</td>\n",
              "      <td>2</td>\n",
              "      <td>0</td>\n",
              "      <td>BM</td>\n",
              "      <td>B-cell</td>\n",
              "      <td>NaN</td>\n",
              "      <td>- F</td>\n",
              "      <td>NaN</td>\n",
              "      <td>NaN</td>\n",
              "      <td>0.59</td>\n",
              "      <td>DFCI</td>\n",
              "    </tr>\n",
              "    <tr>\n",
              "      <th>17</th>\n",
              "      <td>ALL</td>\n",
              "      <td>0</td>\n",
              "      <td>2</td>\n",
              "      <td>0</td>\n",
              "      <td>BM</td>\n",
              "      <td>B-cell</td>\n",
              "      <td>NaN</td>\n",
              "      <td>09/26/90 - M</td>\n",
              "      <td>NaN</td>\n",
              "      <td>NaN</td>\n",
              "      <td>0.49</td>\n",
              "      <td>DFCI</td>\n",
              "    </tr>\n",
              "    <tr>\n",
              "      <th>16</th>\n",
              "      <td>ALL</td>\n",
              "      <td>0</td>\n",
              "      <td>2</td>\n",
              "      <td>0</td>\n",
              "      <td>BM</td>\n",
              "      <td>B-cell</td>\n",
              "      <td>NaN</td>\n",
              "      <td>02/12/90 - M</td>\n",
              "      <td>NaN</td>\n",
              "      <td>NaN</td>\n",
              "      <td>0.95</td>\n",
              "      <td>DFCI</td>\n",
              "    </tr>\n",
              "    <tr>\n",
              "      <th>15</th>\n",
              "      <td>ALL</td>\n",
              "      <td>0</td>\n",
              "      <td>2</td>\n",
              "      <td>0</td>\n",
              "      <td>BM</td>\n",
              "      <td>B-cell</td>\n",
              "      <td>NaN</td>\n",
              "      <td>03/25/89 - F</td>\n",
              "      <td>NaN</td>\n",
              "      <td>NaN</td>\n",
              "      <td>0.98</td>\n",
              "      <td>DFCI</td>\n",
              "    </tr>\n",
              "    <tr>\n",
              "      <th>19</th>\n",
              "      <td>ALL</td>\n",
              "      <td>0</td>\n",
              "      <td>2</td>\n",
              "      <td>0</td>\n",
              "      <td>BM</td>\n",
              "      <td>B-cell</td>\n",
              "      <td>NaN</td>\n",
              "      <td>NaN</td>\n",
              "      <td>NaN</td>\n",
              "      <td>NaN</td>\n",
              "      <td>0.80</td>\n",
              "      <td>DFCI</td>\n",
              "    </tr>\n",
              "    <tr>\n",
              "      <th>13</th>\n",
              "      <td>ALL</td>\n",
              "      <td>0</td>\n",
              "      <td>2</td>\n",
              "      <td>0</td>\n",
              "      <td>BM</td>\n",
              "      <td>B-cell</td>\n",
              "      <td>NaN</td>\n",
              "      <td>07/27/88 - F</td>\n",
              "      <td>NaN</td>\n",
              "      <td>NaN</td>\n",
              "      <td>1.00</td>\n",
              "      <td>DFCI</td>\n",
              "    </tr>\n",
              "    <tr>\n",
              "      <th>2</th>\n",
              "      <td>ALL</td>\n",
              "      <td>0</td>\n",
              "      <td>0</td>\n",
              "      <td>0</td>\n",
              "      <td>BM</td>\n",
              "      <td>T-cell</td>\n",
              "      <td>NaN</td>\n",
              "      <td>- M</td>\n",
              "      <td>NaN</td>\n",
              "      <td>NaN</td>\n",
              "      <td>0.41</td>\n",
              "      <td>DFCI</td>\n",
              "    </tr>\n",
              "    <tr>\n",
              "      <th>14</th>\n",
              "      <td>ALL</td>\n",
              "      <td>0</td>\n",
              "      <td>0</td>\n",
              "      <td>0</td>\n",
              "      <td>BM</td>\n",
              "      <td>T-cell</td>\n",
              "      <td>NaN</td>\n",
              "      <td>11/27/87 - M</td>\n",
              "      <td>NaN</td>\n",
              "      <td>NaN</td>\n",
              "      <td>0.73</td>\n",
              "      <td>DFCI</td>\n",
              "    </tr>\n",
              "    <tr>\n",
              "      <th>4</th>\n",
              "      <td>ALL</td>\n",
              "      <td>0</td>\n",
              "      <td>2</td>\n",
              "      <td>0</td>\n",
              "      <td>BM</td>\n",
              "      <td>B-cell</td>\n",
              "      <td>NaN</td>\n",
              "      <td>NaN</td>\n",
              "      <td>NaN</td>\n",
              "      <td>NaN</td>\n",
              "      <td>0.91</td>\n",
              "      <td>DFCI</td>\n",
              "    </tr>\n",
              "    <tr>\n",
              "      <th>5</th>\n",
              "      <td>ALL</td>\n",
              "      <td>0</td>\n",
              "      <td>2</td>\n",
              "      <td>0</td>\n",
              "      <td>BM</td>\n",
              "      <td>B-cell</td>\n",
              "      <td>NaN</td>\n",
              "      <td>NaN</td>\n",
              "      <td>NaN</td>\n",
              "      <td>NaN</td>\n",
              "      <td>0.89</td>\n",
              "      <td>DFCI</td>\n",
              "    </tr>\n",
              "    <tr>\n",
              "      <th>6</th>\n",
              "      <td>ALL</td>\n",
              "      <td>0</td>\n",
              "      <td>0</td>\n",
              "      <td>1</td>\n",
              "      <td>BM</td>\n",
              "      <td>T-cell</td>\n",
              "      <td>NaN</td>\n",
              "      <td>- M</td>\n",
              "      <td>NaN</td>\n",
              "      <td>NaN</td>\n",
              "      <td>0.76</td>\n",
              "      <td>DFCI</td>\n",
              "    </tr>\n",
              "    <tr>\n",
              "      <th>7</th>\n",
              "      <td>ALL</td>\n",
              "      <td>0</td>\n",
              "      <td>2</td>\n",
              "      <td>0</td>\n",
              "      <td>BM</td>\n",
              "      <td>B-cell</td>\n",
              "      <td>NaN</td>\n",
              "      <td>03/25/83 - F</td>\n",
              "      <td>NaN</td>\n",
              "      <td>NaN</td>\n",
              "      <td>0.78</td>\n",
              "      <td>DFCI</td>\n",
              "    </tr>\n",
              "    <tr>\n",
              "      <th>3</th>\n",
              "      <td>ALL</td>\n",
              "      <td>0</td>\n",
              "      <td>0</td>\n",
              "      <td>1</td>\n",
              "      <td>BM</td>\n",
              "      <td>T-cell</td>\n",
              "      <td>NaN</td>\n",
              "      <td>- M</td>\n",
              "      <td>NaN</td>\n",
              "      <td>NaN</td>\n",
              "      <td>0.87</td>\n",
              "      <td>DFCI</td>\n",
              "    </tr>\n",
              "    <tr>\n",
              "      <th>9</th>\n",
              "      <td>ALL</td>\n",
              "      <td>0</td>\n",
              "      <td>0</td>\n",
              "      <td>1</td>\n",
              "      <td>BM</td>\n",
              "      <td>T-cell</td>\n",
              "      <td>NaN</td>\n",
              "      <td>- M</td>\n",
              "      <td>NaN</td>\n",
              "      <td>NaN</td>\n",
              "      <td>0.89</td>\n",
              "      <td>DFCI</td>\n",
              "    </tr>\n",
              "    <tr>\n",
              "      <th>10</th>\n",
              "      <td>ALL</td>\n",
              "      <td>0</td>\n",
              "      <td>0</td>\n",
              "      <td>1</td>\n",
              "      <td>BM</td>\n",
              "      <td>T-cell</td>\n",
              "      <td>NaN</td>\n",
              "      <td>07/23/87 - M</td>\n",
              "      <td>NaN</td>\n",
              "      <td>NaN</td>\n",
              "      <td>0.56</td>\n",
              "      <td>DFCI</td>\n",
              "    </tr>\n",
              "    <tr>\n",
              "      <th>11</th>\n",
              "      <td>ALL</td>\n",
              "      <td>0</td>\n",
              "      <td>0</td>\n",
              "      <td>1</td>\n",
              "      <td>BM</td>\n",
              "      <td>T-cell</td>\n",
              "      <td>NaN</td>\n",
              "      <td>06/25/85 - M</td>\n",
              "      <td>NaN</td>\n",
              "      <td>NaN</td>\n",
              "      <td>0.74</td>\n",
              "      <td>DFCI</td>\n",
              "    </tr>\n",
              "    <tr>\n",
              "      <th>12</th>\n",
              "      <td>ALL</td>\n",
              "      <td>0</td>\n",
              "      <td>2</td>\n",
              "      <td>2</td>\n",
              "      <td>BM</td>\n",
              "      <td>B-cell</td>\n",
              "      <td>NaN</td>\n",
              "      <td>09/17/85 - F</td>\n",
              "      <td>NaN</td>\n",
              "      <td>NaN</td>\n",
              "      <td>0.20</td>\n",
              "      <td>DFCI</td>\n",
              "    </tr>\n",
              "    <tr>\n",
              "      <th>8</th>\n",
              "      <td>ALL</td>\n",
              "      <td>0</td>\n",
              "      <td>2</td>\n",
              "      <td>0</td>\n",
              "      <td>BM</td>\n",
              "      <td>B-cell</td>\n",
              "      <td>NaN</td>\n",
              "      <td>- F</td>\n",
              "      <td>NaN</td>\n",
              "      <td>NaN</td>\n",
              "      <td>0.77</td>\n",
              "      <td>DFCI</td>\n",
              "    </tr>\n",
              "    <tr>\n",
              "      <th>37</th>\n",
              "      <td>AML</td>\n",
              "      <td>1</td>\n",
              "      <td>1</td>\n",
              "      <td>2</td>\n",
              "      <td>BM</td>\n",
              "      <td>NaN</td>\n",
              "      <td>M2</td>\n",
              "      <td>NaN</td>\n",
              "      <td>44.0</td>\n",
              "      <td>Success</td>\n",
              "      <td>0.95</td>\n",
              "      <td>CALGB</td>\n",
              "    </tr>\n",
              "    <tr>\n",
              "      <th>28</th>\n",
              "      <td>AML</td>\n",
              "      <td>1</td>\n",
              "      <td>1</td>\n",
              "      <td>2</td>\n",
              "      <td>BM</td>\n",
              "      <td>NaN</td>\n",
              "      <td>M2</td>\n",
              "      <td>NaN</td>\n",
              "      <td>79.0</td>\n",
              "      <td>Failure</td>\n",
              "      <td>0.44</td>\n",
              "      <td>CALGB</td>\n",
              "    </tr>\n",
              "    <tr>\n",
              "      <th>29</th>\n",
              "      <td>AML</td>\n",
              "      <td>1</td>\n",
              "      <td>2</td>\n",
              "      <td>2</td>\n",
              "      <td>BM</td>\n",
              "      <td>NaN</td>\n",
              "      <td>M2</td>\n",
              "      <td>NaN</td>\n",
              "      <td>34.0</td>\n",
              "      <td>Failure</td>\n",
              "      <td>0.74</td>\n",
              "      <td>CALGB</td>\n",
              "    </tr>\n",
              "    <tr>\n",
              "      <th>30</th>\n",
              "      <td>AML</td>\n",
              "      <td>1</td>\n",
              "      <td>1</td>\n",
              "      <td>2</td>\n",
              "      <td>BM</td>\n",
              "      <td>NaN</td>\n",
              "      <td>M5</td>\n",
              "      <td>NaN</td>\n",
              "      <td>93.0</td>\n",
              "      <td>Failure</td>\n",
              "      <td>0.80</td>\n",
              "      <td>CALGB</td>\n",
              "    </tr>\n",
              "    <tr>\n",
              "      <th>31</th>\n",
              "      <td>AML</td>\n",
              "      <td>1</td>\n",
              "      <td>1</td>\n",
              "      <td>2</td>\n",
              "      <td>BM</td>\n",
              "      <td>NaN</td>\n",
              "      <td>M4</td>\n",
              "      <td>NaN</td>\n",
              "      <td>77.0</td>\n",
              "      <td>Failure</td>\n",
              "      <td>0.61</td>\n",
              "      <td>CALGB</td>\n",
              "    </tr>\n",
              "    <tr>\n",
              "      <th>32</th>\n",
              "      <td>AML</td>\n",
              "      <td>1</td>\n",
              "      <td>1</td>\n",
              "      <td>2</td>\n",
              "      <td>BM</td>\n",
              "      <td>NaN</td>\n",
              "      <td>M1</td>\n",
              "      <td>NaN</td>\n",
              "      <td>86.0</td>\n",
              "      <td>Failure</td>\n",
              "      <td>0.47</td>\n",
              "      <td>CALGB</td>\n",
              "    </tr>\n",
              "    <tr>\n",
              "      <th>33</th>\n",
              "      <td>AML</td>\n",
              "      <td>1</td>\n",
              "      <td>1</td>\n",
              "      <td>2</td>\n",
              "      <td>BM</td>\n",
              "      <td>NaN</td>\n",
              "      <td>M2</td>\n",
              "      <td>NaN</td>\n",
              "      <td>70.0</td>\n",
              "      <td>Failure</td>\n",
              "      <td>0.89</td>\n",
              "      <td>CALGB</td>\n",
              "    </tr>\n",
              "    <tr>\n",
              "      <th>34</th>\n",
              "      <td>AML</td>\n",
              "      <td>1</td>\n",
              "      <td>1</td>\n",
              "      <td>2</td>\n",
              "      <td>BM</td>\n",
              "      <td>NaN</td>\n",
              "      <td>M2</td>\n",
              "      <td>NaN</td>\n",
              "      <td>77.0</td>\n",
              "      <td>Success</td>\n",
              "      <td>0.64</td>\n",
              "      <td>CALGB</td>\n",
              "    </tr>\n",
              "    <tr>\n",
              "      <th>35</th>\n",
              "      <td>AML</td>\n",
              "      <td>1</td>\n",
              "      <td>2</td>\n",
              "      <td>0</td>\n",
              "      <td>BM</td>\n",
              "      <td>NaN</td>\n",
              "      <td>M1</td>\n",
              "      <td>NaN</td>\n",
              "      <td>67.0</td>\n",
              "      <td>Success</td>\n",
              "      <td>0.21</td>\n",
              "      <td>CALGB</td>\n",
              "    </tr>\n",
              "    <tr>\n",
              "      <th>36</th>\n",
              "      <td>AML</td>\n",
              "      <td>1</td>\n",
              "      <td>1</td>\n",
              "      <td>2</td>\n",
              "      <td>BM</td>\n",
              "      <td>NaN</td>\n",
              "      <td>M5</td>\n",
              "      <td>NaN</td>\n",
              "      <td>76.0</td>\n",
              "      <td>Success</td>\n",
              "      <td>0.94</td>\n",
              "      <td>CALGB</td>\n",
              "    </tr>\n",
              "    <tr>\n",
              "      <th>38</th>\n",
              "      <td>AML</td>\n",
              "      <td>1</td>\n",
              "      <td>1</td>\n",
              "      <td>2</td>\n",
              "      <td>BM</td>\n",
              "      <td>NaN</td>\n",
              "      <td>M1</td>\n",
              "      <td>NaN</td>\n",
              "      <td>80.0</td>\n",
              "      <td>Success</td>\n",
              "      <td>0.73</td>\n",
              "      <td>CALGB</td>\n",
              "    </tr>\n",
              "  </tbody>\n",
              "</table>\n",
              "</div>"
            ],
            "text/plain": [
              "   label  label_codes  kmns_3_labels  ...  Treatment Response    PS Source\n",
              "1    ALL            0              2  ...                 NaN  1.00   DFCI\n",
              "27   ALL            0              2  ...                 NaN  0.82   DFCI\n",
              "26   ALL            0              2  ...                 NaN  0.89   DFCI\n",
              "25   ALL            0              2  ...                 NaN  0.43   DFCI\n",
              "24   ALL            0              2  ...                 NaN  0.92   DFCI\n",
              "23   ALL            0              0  ...                 NaN  0.77   DFCI\n",
              "22   ALL            0              2  ...                 NaN  0.37   DFCI\n",
              "21   ALL            0              2  ...                 NaN  0.76   DFCI\n",
              "20   ALL            0              2  ...                 NaN  0.90   DFCI\n",
              "18   ALL            0              2  ...                 NaN  0.59   DFCI\n",
              "17   ALL            0              2  ...                 NaN  0.49   DFCI\n",
              "16   ALL            0              2  ...                 NaN  0.95   DFCI\n",
              "15   ALL            0              2  ...                 NaN  0.98   DFCI\n",
              "19   ALL            0              2  ...                 NaN  0.80   DFCI\n",
              "13   ALL            0              2  ...                 NaN  1.00   DFCI\n",
              "2    ALL            0              0  ...                 NaN  0.41   DFCI\n",
              "14   ALL            0              0  ...                 NaN  0.73   DFCI\n",
              "4    ALL            0              2  ...                 NaN  0.91   DFCI\n",
              "5    ALL            0              2  ...                 NaN  0.89   DFCI\n",
              "6    ALL            0              0  ...                 NaN  0.76   DFCI\n",
              "7    ALL            0              2  ...                 NaN  0.78   DFCI\n",
              "3    ALL            0              0  ...                 NaN  0.87   DFCI\n",
              "9    ALL            0              0  ...                 NaN  0.89   DFCI\n",
              "10   ALL            0              0  ...                 NaN  0.56   DFCI\n",
              "11   ALL            0              0  ...                 NaN  0.74   DFCI\n",
              "12   ALL            0              2  ...                 NaN  0.20   DFCI\n",
              "8    ALL            0              2  ...                 NaN  0.77   DFCI\n",
              "37   AML            1              1  ...             Success  0.95  CALGB\n",
              "28   AML            1              1  ...             Failure  0.44  CALGB\n",
              "29   AML            1              2  ...             Failure  0.74  CALGB\n",
              "30   AML            1              1  ...             Failure  0.80  CALGB\n",
              "31   AML            1              1  ...             Failure  0.61  CALGB\n",
              "32   AML            1              1  ...             Failure  0.47  CALGB\n",
              "33   AML            1              1  ...             Failure  0.89  CALGB\n",
              "34   AML            1              1  ...             Success  0.64  CALGB\n",
              "35   AML            1              2  ...             Success  0.21  CALGB\n",
              "36   AML            1              1  ...             Success  0.94  CALGB\n",
              "38   AML            1              1  ...             Success  0.73  CALGB\n",
              "\n",
              "[38 rows x 12 columns]"
            ]
          },
          "metadata": {
            "tags": []
          },
          "execution_count": 34
        }
      ]
    }
  ]
}